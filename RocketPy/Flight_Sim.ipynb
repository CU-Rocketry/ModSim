{
  "nbformat": 4,
  "nbformat_minor": 0,
  "metadata": {
    "colab": {
      "provenance": [],
      "include_colab_link": true
    },
    "kernelspec": {
      "name": "python3",
      "display_name": "Python 3"
    },
    "language_info": {
      "name": "python"
    }
  },
  "cells": [
    {
      "cell_type": "markdown",
      "metadata": {
        "id": "view-in-github",
        "colab_type": "text"
      },
      "source": [
        "<a href=\"https://colab.research.google.com/github/CU-Rocketry/ModSim/blob/main/Flight_Sim.ipynb\" target=\"_parent\"><img src=\"https://colab.research.google.com/assets/colab-badge.svg\" alt=\"Open In Colab\"/></a>"
      ]
    },
    {
      "cell_type": "markdown",
      "source": [
        "Add README, psuedocode."
      ],
      "metadata": {
        "id": "933OffWI7Q_p"
      }
    },
    {
      "cell_type": "markdown",
      "source": [
        "# **Current Issues/ To-Do**\n",
        "\n",
        "\n",
        "-   testflight info\n",
        "-readme/psuedocode\n",
        "-dispersion analysis\n",
        "\n"
      ],
      "metadata": {
        "id": "wa5h-C3h7cus"
      }
    },
    {
      "cell_type": "code",
      "execution_count": null,
      "metadata": {
        "id": "Ns7_58uEozD3"
      },
      "outputs": [],
      "source": [
        "import numpy as np\n",
        "import scipy as sp\n",
        "import matplotlib.pyplot as plt\n",
        "import netCDF4 as nt\n",
        "import rocketpy as rp\n",
        "from rocketpy import Environment, Rocket, SolidMotor, Flight\n",
        "import datetime"
      ]
    },
    {
      "cell_type": "code",
      "source": [
        "from google.colab import drive\n",
        "drive.mount('/content/drive')"
      ],
      "metadata": {
        "colab": {
          "base_uri": "https://localhost:8080/"
        },
        "id": "ZMMb4ftVdwvC",
        "outputId": "6b2c3165-074e-46c3-9874-4171f7d99b10"
      },
      "execution_count": null,
      "outputs": [
        {
          "output_type": "stream",
          "name": "stdout",
          "text": [
            "Mounted at /content/drive\n"
          ]
        }
      ]
    },
    {
      "cell_type": "code",
      "source": [
        "!pip install netCDF4\n",
        "!pip install rocketpy"
      ],
      "metadata": {
        "id": "MBlJmhXa0wwS",
        "colab": {
          "base_uri": "https://localhost:8080/"
        },
        "outputId": "6c2db6b3-edae-4bb4-8790-38f0a5e28c2f"
      },
      "execution_count": null,
      "outputs": [
        {
          "output_type": "stream",
          "name": "stdout",
          "text": [
            "Collecting netCDF4\n",
            "  Downloading netCDF4-1.6.5-cp310-cp310-manylinux_2_17_x86_64.manylinux2014_x86_64.whl (5.5 MB)\n",
            "\u001b[2K     \u001b[90m━━━━━━━━━━━━━━━━━━━━━━━━━━━━━━━━━━━━━━━━\u001b[0m \u001b[32m5.5/5.5 MB\u001b[0m \u001b[31m35.1 MB/s\u001b[0m eta \u001b[36m0:00:00\u001b[0m\n",
            "\u001b[?25hCollecting cftime (from netCDF4)\n",
            "  Downloading cftime-1.6.3-cp310-cp310-manylinux_2_17_x86_64.manylinux2014_x86_64.whl (1.3 MB)\n",
            "\u001b[2K     \u001b[90m━━━━━━━━━━━━━━━━━━━━━━━━━━━━━━━━━━━━━━━━\u001b[0m \u001b[32m1.3/1.3 MB\u001b[0m \u001b[31m53.4 MB/s\u001b[0m eta \u001b[36m0:00:00\u001b[0m\n",
            "\u001b[?25hRequirement already satisfied: certifi in /usr/local/lib/python3.10/dist-packages (from netCDF4) (2024.2.2)\n",
            "Requirement already satisfied: numpy in /usr/local/lib/python3.10/dist-packages (from netCDF4) (1.25.2)\n",
            "Installing collected packages: cftime, netCDF4\n",
            "Successfully installed cftime-1.6.3 netCDF4-1.6.5\n",
            "Collecting rocketpy\n",
            "  Downloading rocketpy-1.2.0-py3-none-any.whl (278 kB)\n",
            "\u001b[2K     \u001b[90m━━━━━━━━━━━━━━━━━━━━━━━━━━━━━━━━━━━━━━━━\u001b[0m \u001b[32m278.8/278.8 kB\u001b[0m \u001b[31m6.1 MB/s\u001b[0m eta \u001b[36m0:00:00\u001b[0m\n",
            "\u001b[?25hRequirement already satisfied: numpy>=1.13 in /usr/local/lib/python3.10/dist-packages (from rocketpy) (1.25.2)\n",
            "Requirement already satisfied: scipy>=1.0 in /usr/local/lib/python3.10/dist-packages (from rocketpy) (1.11.4)\n",
            "Requirement already satisfied: matplotlib>=3.0 in /usr/local/lib/python3.10/dist-packages (from rocketpy) (3.7.1)\n",
            "Requirement already satisfied: netCDF4>=1.6.4 in /usr/local/lib/python3.10/dist-packages (from rocketpy) (1.6.5)\n",
            "Requirement already satisfied: requests in /usr/local/lib/python3.10/dist-packages (from rocketpy) (2.31.0)\n",
            "Requirement already satisfied: pytz in /usr/local/lib/python3.10/dist-packages (from rocketpy) (2023.4)\n",
            "Collecting simplekml (from rocketpy)\n",
            "  Downloading simplekml-1.3.6.tar.gz (52 kB)\n",
            "\u001b[2K     \u001b[90m━━━━━━━━━━━━━━━━━━━━━━━━━━━━━━━━━━━━━━━━\u001b[0m \u001b[32m53.0/53.0 kB\u001b[0m \u001b[31m7.4 MB/s\u001b[0m eta \u001b[36m0:00:00\u001b[0m\n",
            "\u001b[?25h  Preparing metadata (setup.py) ... \u001b[?25l\u001b[?25hdone\n",
            "Requirement already satisfied: contourpy>=1.0.1 in /usr/local/lib/python3.10/dist-packages (from matplotlib>=3.0->rocketpy) (1.2.0)\n",
            "Requirement already satisfied: cycler>=0.10 in /usr/local/lib/python3.10/dist-packages (from matplotlib>=3.0->rocketpy) (0.12.1)\n",
            "Requirement already satisfied: fonttools>=4.22.0 in /usr/local/lib/python3.10/dist-packages (from matplotlib>=3.0->rocketpy) (4.48.1)\n",
            "Requirement already satisfied: kiwisolver>=1.0.1 in /usr/local/lib/python3.10/dist-packages (from matplotlib>=3.0->rocketpy) (1.4.5)\n",
            "Requirement already satisfied: packaging>=20.0 in /usr/local/lib/python3.10/dist-packages (from matplotlib>=3.0->rocketpy) (23.2)\n",
            "Requirement already satisfied: pillow>=6.2.0 in /usr/local/lib/python3.10/dist-packages (from matplotlib>=3.0->rocketpy) (9.4.0)\n",
            "Requirement already satisfied: pyparsing>=2.3.1 in /usr/local/lib/python3.10/dist-packages (from matplotlib>=3.0->rocketpy) (3.1.1)\n",
            "Requirement already satisfied: python-dateutil>=2.7 in /usr/local/lib/python3.10/dist-packages (from matplotlib>=3.0->rocketpy) (2.8.2)\n",
            "Requirement already satisfied: cftime in /usr/local/lib/python3.10/dist-packages (from netCDF4>=1.6.4->rocketpy) (1.6.3)\n",
            "Requirement already satisfied: certifi in /usr/local/lib/python3.10/dist-packages (from netCDF4>=1.6.4->rocketpy) (2024.2.2)\n",
            "Requirement already satisfied: charset-normalizer<4,>=2 in /usr/local/lib/python3.10/dist-packages (from requests->rocketpy) (3.3.2)\n",
            "Requirement already satisfied: idna<4,>=2.5 in /usr/local/lib/python3.10/dist-packages (from requests->rocketpy) (3.6)\n",
            "Requirement already satisfied: urllib3<3,>=1.21.1 in /usr/local/lib/python3.10/dist-packages (from requests->rocketpy) (2.0.7)\n",
            "Requirement already satisfied: six>=1.5 in /usr/local/lib/python3.10/dist-packages (from python-dateutil>=2.7->matplotlib>=3.0->rocketpy) (1.16.0)\n",
            "Building wheels for collected packages: simplekml\n",
            "  Building wheel for simplekml (setup.py) ... \u001b[?25l\u001b[?25hdone\n",
            "  Created wheel for simplekml: filename=simplekml-1.3.6-py3-none-any.whl size=65860 sha256=6ee2b8bd9908339c51c8826a6497b62eafbb0eb4083f94f904429c2ad4edcc8d\n",
            "  Stored in directory: /root/.cache/pip/wheels/16/7c/e6/621a95f24bd1ff987368f1c37881ffe013433ff6b413d87fcb\n",
            "Successfully built simplekml\n",
            "Installing collected packages: simplekml, rocketpy\n",
            "Successfully installed rocketpy-1.2.0 simplekml-1.3.6\n"
          ]
        }
      ]
    },
    {
      "cell_type": "code",
      "source": [
        "env = Environment(\n",
        "    latitude=32.990254,\n",
        "    longitude=-106.974998,\n",
        "    elevation=1400,\n",
        ")\n",
        "\n",
        "tomorrow = datetime.date.today() + datetime.timedelta(days=1)\n",
        "\n",
        "env.set_date(\n",
        "  (tomorrow.year, tomorrow.month, tomorrow.day, 12), timezone=\"America/Denver\"\n",
        ") # Tomorrow's date in year, month, day, hour UTC format\n",
        "\n",
        "env.set_atmospheric_model(type='Forecast', file='GFS')"
      ],
      "metadata": {
        "colab": {
          "base_uri": "https://localhost:8080/"
        },
        "id": "3NBbYmPlqyQk",
        "outputId": "7871b1f3-e563-48e4-d092-bd39a02602ea"
      },
      "execution_count": null,
      "outputs": [
        {
          "output_type": "stream",
          "name": "stderr",
          "text": [
            "/usr/local/lib/python3.10/dist-packages/rocketpy/environment/environment.py:2123: UserWarning: Exact chosen launch time is not available in the provided file, using 2024-02-19 18:00:00 UTC instead.\n",
            "  warnings.warn(\n"
          ]
        }
      ]
    },
    {
      "cell_type": "code",
      "source": [
        "env.info()"
      ],
      "metadata": {
        "colab": {
          "base_uri": "https://localhost:8080/",
          "height": 1000
        },
        "id": "KGbJ2b75hovk",
        "outputId": "c79dc40b-ffbe-4b38-f5a9-1ef8e606c49d"
      },
      "execution_count": null,
      "outputs": [
        {
          "output_type": "stream",
          "name": "stdout",
          "text": [
            "\n",
            "Gravity Details\n",
            "\n",
            "Acceleration of gravity at surface level:    9.7911 m/s²\n",
            "Acceleration of gravity at  79.223 km (ASL): 9.5557 m/s²\n",
            "\n",
            "\n",
            "Launch Site Details\n",
            "\n",
            "Launch Date: 2024-02-19 19:00:00 UTC | 2024-02-19 12:00:00 America/Denver\n",
            "Launch Site Latitude: 32.99025°\n",
            "Launch Site Longitude: -106.97500°\n",
            "Reference Datum: SIRGAS2000\n",
            "Launch Site UTM coordinates: 315468.64 W    3651938.65 N\n",
            "Launch Site UTM zone: 13S\n",
            "Launch Site Surface Elevation: 1471.5 m\n",
            "\n",
            "\n",
            "Atmospheric Model Details\n",
            "\n",
            "Atmospheric Model Type: Forecast\n",
            "Forecast Maximum Height: 79.223 km\n",
            "Forecast Time Period: From  2024-02-18 12:00:00  to  2024-03-05 12:00:00  UTC\n",
            "Forecast Hour Interval: 3  hrs\n",
            "Forecast Latitude Range: From  -90.0 ° To  90.0 °\n",
            "Forecast Longitude Range: From  0.0 ° To  359.75 °\n",
            "\n",
            "\n",
            "Surface Atmospheric Conditions\n",
            "\n",
            "Surface Wind Speed: 2.15 m/s\n",
            "Surface Wind Direction: 198.18°\n",
            "Surface Wind Heading: 18.18°\n",
            "Surface Pressure: 855.98 hPa\n",
            "Surface Temperature: 285.72 K\n",
            "Surface Air Density: 1.044 kg/m³\n",
            "Surface Speed of Sound: 338.85 m/s\n",
            "\n",
            "\n",
            "Earth Model Details\n",
            "\n",
            "Earth Radius at Launch site: 6371.83 km\n",
            "Semi-major Axis: 6378.14 km\n",
            "Semi-minor Axis: 6356.75 km\n",
            "Flattening: 0.0034\n",
            "\n",
            "\n",
            "Atmospheric Model Plots\n",
            "\n"
          ]
        },
        {
          "output_type": "display_data",
          "data": {
            "text/plain": [
              "<Figure size 900x450 with 4 Axes>"
            ],
            "image/png": "[encoded data removed]"
          },
          "metadata": {}
        }
      ]
    },
    {
      "cell_type": "code",
      "source": [
        "AeroTechM2500 = SolidMotor(\n",
        "    thrust_source=\"/content/drive/MyDrive/motor.eng\",\n",
        "    dry_mass=3.353,\n",
        "    dry_inertia=(0.1633, 0.1633, 0.0041),\n",
        "    center_of_dry_mass_position=0.317,\n",
        "    grains_center_of_mass_position=0.3175,\n",
        "    burn_time=3.9,\n",
        "    grain_number=4,\n",
        "    grain_separation=0.005,\n",
        "    grain_density=1815,\n",
        "    grain_outer_radius=0.0875,\n",
        "    grain_initial_inner_radius=0.0285,\n",
        "    grain_initial_height=0.1524,\n",
        "    nozzle_radius=0.085,\n",
        "    throat_radius=0.0354,\n",
        "    interpolation_method=\"linear\",\n",
        "    nozzle_position=0,\n",
        "    coordinate_system_orientation=\"nozzle_to_combustion_chamber\",\n",
        ")"
      ],
      "metadata": {
        "id": "VPv-zGFjRnJT"
      },
      "execution_count": null,
      "outputs": []
    },
    {
      "cell_type": "code",
      "source": [
        "AeroTechM2500.info()"
      ],
      "metadata": {
        "colab": {
          "base_uri": "https://localhost:8080/",
          "height": 854
        },
        "id": "0w31gux7ig_o",
        "outputId": "12e365c7-17b4-459b-c7fc-c827a3712934"
      },
      "execution_count": null,
      "outputs": [
        {
          "output_type": "stream",
          "name": "stdout",
          "text": [
            "Nozzle Details\n",
            "Nozzle Radius: 0.085 m\n",
            "Nozzle Throat Radius: 0.0354 m\n",
            "\n",
            "Grain Details\n",
            "Number of Grains: 4\n",
            "Grain Spacing: 0.005 m\n",
            "Grain Density: 1815 kg/m3\n",
            "Grain Outer Radius: 0.0875 m\n",
            "Grain Inner Radius: 0.0285 m\n",
            "Grain Height: 0.1524 m\n",
            "Grain Volume: 0.003 m3\n",
            "Grain Mass: 5.947 kg\n",
            "\n",
            "Motor Details\n",
            "Total Burning Time: 3.9 s\n",
            "Total Propellant Mass: 23.789 kg\n",
            "Average Propellant Exhaust Velocity: 401.756 m/s\n",
            "Average Thrust: 2450.637 N\n",
            "Maximum Thrust: 2861.69 N at 1.252 s after ignition.\n",
            "Total Impulse: 9557.484 Ns\n",
            "\n"
          ]
        },
        {
          "output_type": "display_data",
          "data": {
            "text/plain": [
              "<Figure size 640x480 with 1 Axes>"
            ],
            "image/png": "[encoded data removed]"
          },
          "metadata": {}
        }
      ]
    },
    {
      "cell_type": "code",
      "source": [
        "currera = Rocket(\n",
        "    radius=0.0655, # m\n",
        "    mass=22.9,  # without motor, kg\n",
        "    inertia=(7.588, 7.588, 0.06), #assume long, long, rot\n",
        "    power_off_drag=\"/content/drive/MyDrive/Mach_vs_Drag.csv\",\n",
        "    power_on_drag=\"/content/drive/MyDrive/Mach_vs_Drag.csv\",\n",
        "    center_of_mass_without_motor=1.34, # m (cg in or)\n",
        "    coordinate_system_orientation=\"nose_to_tail\",\n",
        ")\n",
        "\n",
        "buttons = currera.set_rail_buttons(\n",
        "   upper_button_position=0.75,\n",
        "   lower_button_position=1.75,\n",
        "   angular_position=45,\n",
        ")\n",
        "\n",
        "currera.add_motor(AeroTechM2500, position= 1.95) #need to change\n",
        "\n",
        "nose = currera.add_nose(\n",
        "    length=0.686, kind=\"vonKarman\", position= 0 #m\n",
        ")\n",
        "\n",
        "fins = currera.add_trapezoidal_fins(\n",
        "    n=4,\n",
        "    root_chord=0.279,\n",
        "    tip_chord=0.076,\n",
        "    span=0.013,\n",
        "    sweep_length= 0.206,\n",
        "    cant_angle=63.8,\n",
        "    position= 2.25,\n",
        ")\n",
        "\n",
        "tail = currera.add_tail( # need to change\n",
        "    top_radius=0.131, bottom_radius=0.102, length=0.076, position=2.55,\n",
        ")"
      ],
      "metadata": {
        "id": "1ZOMxY_uRqPe"
      },
      "execution_count": null,
      "outputs": []
    },
    {
      "cell_type": "code",
      "source": [
        "currera.info()"
      ],
      "metadata": {
        "colab": {
          "base_uri": "https://localhost:8080/"
        },
        "id": "mIT_HOsIh00o",
        "outputId": "58e422b4-95e3-4c1a-a15c-c736166de57d"
      },
      "execution_count": null,
      "outputs": [
        {
          "output_type": "stream",
          "name": "stdout",
          "text": [
            "\n",
            "Inertia Details\n",
            "\n",
            "Rocket Mass: 22.900 kg (without motor)\n",
            "Rocket Dry Mass: 26.253 kg (with unloaded motor)\n",
            "Rocket Loaded Mass: 50.042 kg (with loaded motor)\n",
            "Rocket Inertia (with unloaded motor) 11: 8.002 kg*m2\n",
            "Rocket Inertia (with unloaded motor) 22: 8.002 kg*m2\n",
            "Rocket Inertia (with unloaded motor) 33: 0.064 kg*m2\n",
            "Rocket Inertia (with unloaded motor) 12: 0.000 kg*m2\n",
            "Rocket Inertia (with unloaded motor) 13: 0.000 kg*m2\n",
            "Rocket Inertia (with unloaded motor) 23: 0.000 kg*m2\n",
            "\n",
            "Geometrical Parameters\n",
            "\n",
            "Rocket Maximum Radius: 0.0655 m\n",
            "Rocket Frontal Area: 0.013478 m2\n",
            "\n",
            "Rocket Distances\n",
            "Rocket Center of Dry Mass - Center of Mass without Motor: 0.037 m\n",
            "Rocket Center of Dry Mass - Nozzle Exit: 0.573 m\n",
            "Rocket Center of Dry Mass - Center of Propellant Mass: 0.255 m\n",
            "Rocket Center of Mass - Rocket Loaded Center of Mass: 0.121 m\n",
            "\n",
            "\n",
            "Aerodynamics Lift Coefficient Derivatives\n",
            "\n",
            "Nose Cone Lift Coefficient Derivative: 2.000/rad\n",
            "Fins Lift Coefficient Derivative: 0.134/rad\n",
            "Tail Lift Coefficient Derivative: -3.150/rad\n",
            "\n",
            "Center of Pressure\n",
            "\n",
            "Nose Cone Center of Pressure position: 0.343 m\n",
            "Fins Center of Pressure position: 2.383 m\n",
            "Tail Center of Pressure position: 2.586 m\n",
            "\n",
            "Stability\n",
            "\n",
            "Center of Mass position (time=0): 1.499 m\n",
            "Initial Static Margin (mach=0, time=0): 42.210 c\n",
            "Final Static Margin (mach=0, time=burn_out): 43.135 c\n",
            "Rocket Center of Mass (time=0) - Center of Pressure (mach=0): 5.529 m\n",
            "\n"
          ]
        }
      ]
    },
    {
      "cell_type": "code",
      "source": [
        "currera.plots.static_margin()"
      ],
      "metadata": {
        "colab": {
          "base_uri": "https://localhost:8080/",
          "height": 472
        },
        "id": "mwmdF9uqi712",
        "outputId": "2ed1f3b3-fd6f-49eb-989c-d6027c71dfdf"
      },
      "execution_count": null,
      "outputs": [
        {
          "output_type": "display_data",
          "data": {
            "text/plain": [
              "<Figure size 640x480 with 1 Axes>"
            ],
            "image/png": "[encoded data removed]"
          },
          "metadata": {}
        }
      ]
    },
    {
      "cell_type": "code",
      "source": [
        "test_flight = Flight(\n",
        "  rocket=currera, environment=env, rail_length=5.2, inclination=85, heading=0\n",
        ")"
      ],
      "metadata": {
        "id": "Z1EWctKhRvW0"
      },
      "execution_count": null,
      "outputs": []
    },
    {
      "cell_type": "code",
      "source": [
        "test_flight.info()"
      ],
      "metadata": {
        "id": "6mUcASIyllHm",
        "colab": {
          "base_uri": "https://localhost:8080/",
          "height": 547
        },
        "outputId": "fbbad594-3642-40f9-96b2-bc0a3482d713"
      },
      "execution_count": null,
      "outputs": [
        {
          "output_type": "stream",
          "name": "stdout",
          "text": [
            "\n",
            "Initial Conditions\n",
            "\n"
          ]
        },
        {
          "output_type": "error",
          "ename": "ValueError",
          "evalue": "array must not contain infs or NaNs",
          "traceback": [
            "\u001b[0;31m---------------------------------------------------------------------------\u001b[0m",
            "\u001b[0;31mKeyError\u001b[0m                                  Traceback (most recent call last)",
            "\u001b[0;32m/usr/local/lib/python3.10/dist-packages/rocketpy/mathutils/function.py\u001b[0m in \u001b[0;36m__get__\u001b[0;34m(self, instance, owner)\u001b[0m\n\u001b[1;32m   3330\u001b[0m                 \u001b[0;31m# If cache is ready, return it\u001b[0m\u001b[0;34m\u001b[0m\u001b[0;34m\u001b[0m\u001b[0m\n\u001b[0;32m-> 3331\u001b[0;31m                 \u001b[0mval\u001b[0m \u001b[0;34m=\u001b[0m \u001b[0mcache\u001b[0m\u001b[0;34m[\u001b[0m\u001b[0mself\u001b[0m\u001b[0;34m.\u001b[0m\u001b[0mattrname\u001b[0m\u001b[0;34m]\u001b[0m\u001b[0;34m\u001b[0m\u001b[0;34m\u001b[0m\u001b[0m\n\u001b[0m\u001b[1;32m   3332\u001b[0m             \u001b[0;32mexcept\u001b[0m \u001b[0mKeyError\u001b[0m\u001b[0;34m:\u001b[0m\u001b[0;34m\u001b[0m\u001b[0;34m\u001b[0m\u001b[0m\n",
            "\u001b[0;31mKeyError\u001b[0m: 'x'",
            "\nDuring handling of the above exception, another exception occurred:\n",
            "\u001b[0;31mAttributeError\u001b[0m                            Traceback (most recent call last)",
            "\u001b[0;32m/usr/local/lib/python3.10/dist-packages/rocketpy/mathutils/function.py\u001b[0m in \u001b[0;36m__get__\u001b[0;34m(self, instance, owner)\u001b[0m\n\u001b[1;32m   3335\u001b[0m                     \u001b[0;31m# Handle methods which return Function instances\u001b[0m\u001b[0;34m\u001b[0m\u001b[0;34m\u001b[0m\u001b[0m\n\u001b[0;32m-> 3336\u001b[0;31m                     \u001b[0mval\u001b[0m \u001b[0;34m=\u001b[0m \u001b[0mself\u001b[0m\u001b[0;34m.\u001b[0m\u001b[0mfunc\u001b[0m\u001b[0;34m(\u001b[0m\u001b[0minstance\u001b[0m\u001b[0;34m)\u001b[0m\u001b[0;34m.\u001b[0m\u001b[0mreset\u001b[0m\u001b[0;34m(\u001b[0m\u001b[0;34m*\u001b[0m\u001b[0margs\u001b[0m\u001b[0;34m,\u001b[0m \u001b[0;34m**\u001b[0m\u001b[0mkwargs\u001b[0m\u001b[0;34m)\u001b[0m\u001b[0;34m\u001b[0m\u001b[0;34m\u001b[0m\u001b[0m\n\u001b[0m\u001b[1;32m   3337\u001b[0m                 \u001b[0;32mexcept\u001b[0m \u001b[0mAttributeError\u001b[0m\u001b[0;34m:\u001b[0m\u001b[0;34m\u001b[0m\u001b[0;34m\u001b[0m\u001b[0m\n",
            "\u001b[0;31mAttributeError\u001b[0m: 'numpy.ndarray' object has no attribute 'reset'",
            "\nDuring handling of the above exception, another exception occurred:\n",
            "\u001b[0;31mValueError\u001b[0m                                Traceback (most recent call last)",
            "\u001b[0;32m<ipython-input-17-b20f687ae658>\u001b[0m in \u001b[0;36m<cell line: 1>\u001b[0;34m()\u001b[0m\n\u001b[0;32m----> 1\u001b[0;31m \u001b[0mtest_flight\u001b[0m\u001b[0;34m.\u001b[0m\u001b[0minfo\u001b[0m\u001b[0;34m(\u001b[0m\u001b[0;34m)\u001b[0m\u001b[0;34m\u001b[0m\u001b[0;34m\u001b[0m\u001b[0m\n\u001b[0m",
            "\u001b[0;32m/usr/local/lib/python3.10/dist-packages/rocketpy/simulation/flight.py\u001b[0m in \u001b[0;36minfo\u001b[0;34m(self)\u001b[0m\n\u001b[1;32m   3328\u001b[0m         \u001b[0;32mNone\u001b[0m\u001b[0;34m\u001b[0m\u001b[0;34m\u001b[0m\u001b[0m\n\u001b[1;32m   3329\u001b[0m         \"\"\"\n\u001b[0;32m-> 3330\u001b[0;31m         \u001b[0mself\u001b[0m\u001b[0;34m.\u001b[0m\u001b[0mprints\u001b[0m\u001b[0;34m.\u001b[0m\u001b[0mall\u001b[0m\u001b[0;34m(\u001b[0m\u001b[0;34m)\u001b[0m\u001b[0;34m\u001b[0m\u001b[0;34m\u001b[0m\u001b[0m\n\u001b[0m\u001b[1;32m   3331\u001b[0m         \u001b[0;32mreturn\u001b[0m \u001b[0;32mNone\u001b[0m\u001b[0;34m\u001b[0m\u001b[0;34m\u001b[0m\u001b[0m\n\u001b[1;32m   3332\u001b[0m \u001b[0;34m\u001b[0m\u001b[0m\n",
            "\u001b[0;32m/usr/local/lib/python3.10/dist-packages/rocketpy/prints/flight_prints.py\u001b[0m in \u001b[0;36mall\u001b[0;34m(self)\u001b[0m\n\u001b[1;32m    429\u001b[0m \u001b[0;34m\u001b[0m\u001b[0m\n\u001b[1;32m    430\u001b[0m         \u001b[0;31m# Print initial conditions\u001b[0m\u001b[0;34m\u001b[0m\u001b[0;34m\u001b[0m\u001b[0m\n\u001b[0;32m--> 431\u001b[0;31m         \u001b[0mself\u001b[0m\u001b[0;34m.\u001b[0m\u001b[0minitial_conditions\u001b[0m\u001b[0;34m(\u001b[0m\u001b[0;34m)\u001b[0m\u001b[0;34m\u001b[0m\u001b[0;34m\u001b[0m\u001b[0m\n\u001b[0m\u001b[1;32m    432\u001b[0m         \u001b[0mprint\u001b[0m\u001b[0;34m(\u001b[0m\u001b[0;34m)\u001b[0m\u001b[0;34m\u001b[0m\u001b[0;34m\u001b[0m\u001b[0m\n\u001b[1;32m    433\u001b[0m \u001b[0;34m\u001b[0m\u001b[0m\n",
            "\u001b[0;32m/usr/local/lib/python3.10/dist-packages/rocketpy/prints/flight_prints.py\u001b[0m in \u001b[0;36minitial_conditions\u001b[0;34m(self)\u001b[0m\n\u001b[1;32m     42\u001b[0m         print(\n\u001b[1;32m     43\u001b[0m             \"Position - x: {:.2f} m | y: {:.2f} m | z: {:.2f} m\".format(\n\u001b[0;32m---> 44\u001b[0;31m                 \u001b[0mself\u001b[0m\u001b[0;34m.\u001b[0m\u001b[0mflight\u001b[0m\u001b[0;34m.\u001b[0m\u001b[0mx\u001b[0m\u001b[0;34m(\u001b[0m\u001b[0;36m0\u001b[0m\u001b[0;34m)\u001b[0m\u001b[0;34m,\u001b[0m \u001b[0mself\u001b[0m\u001b[0;34m.\u001b[0m\u001b[0mflight\u001b[0m\u001b[0;34m.\u001b[0m\u001b[0my\u001b[0m\u001b[0;34m(\u001b[0m\u001b[0;36m0\u001b[0m\u001b[0;34m)\u001b[0m\u001b[0;34m,\u001b[0m \u001b[0mself\u001b[0m\u001b[0;34m.\u001b[0m\u001b[0mflight\u001b[0m\u001b[0;34m.\u001b[0m\u001b[0mz\u001b[0m\u001b[0;34m(\u001b[0m\u001b[0;36m0\u001b[0m\u001b[0;34m)\u001b[0m\u001b[0;34m\u001b[0m\u001b[0;34m\u001b[0m\u001b[0m\n\u001b[0m\u001b[1;32m     45\u001b[0m             )\n\u001b[1;32m     46\u001b[0m         )\n",
            "\u001b[0;32m/usr/local/lib/python3.10/dist-packages/rocketpy/mathutils/function.py\u001b[0m in \u001b[0;36m__get__\u001b[0;34m(self, instance, owner)\u001b[0m\n\u001b[1;32m   3338\u001b[0m                     \u001b[0;31m# Handle methods which return a valid source\u001b[0m\u001b[0;34m\u001b[0m\u001b[0;34m\u001b[0m\u001b[0m\n\u001b[1;32m   3339\u001b[0m                     \u001b[0msource\u001b[0m \u001b[0;34m=\u001b[0m \u001b[0mself\u001b[0m\u001b[0;34m.\u001b[0m\u001b[0mfunc\u001b[0m\u001b[0;34m(\u001b[0m\u001b[0minstance\u001b[0m\u001b[0;34m)\u001b[0m\u001b[0;34m\u001b[0m\u001b[0;34m\u001b[0m\u001b[0m\n\u001b[0;32m-> 3340\u001b[0;31m                     \u001b[0mval\u001b[0m \u001b[0;34m=\u001b[0m \u001b[0mFunction\u001b[0m\u001b[0;34m(\u001b[0m\u001b[0msource\u001b[0m\u001b[0;34m,\u001b[0m \u001b[0;34m*\u001b[0m\u001b[0margs\u001b[0m\u001b[0;34m,\u001b[0m \u001b[0;34m**\u001b[0m\u001b[0mkwargs\u001b[0m\u001b[0;34m)\u001b[0m\u001b[0;34m\u001b[0m\u001b[0;34m\u001b[0m\u001b[0m\n\u001b[0m\u001b[1;32m   3341\u001b[0m                 \u001b[0;32mexcept\u001b[0m \u001b[0mTypeError\u001b[0m\u001b[0;34m:\u001b[0m\u001b[0;34m\u001b[0m\u001b[0;34m\u001b[0m\u001b[0m\n\u001b[1;32m   3342\u001b[0m                     \u001b[0;31m# Handle methods which are the source themselves\u001b[0m\u001b[0;34m\u001b[0m\u001b[0;34m\u001b[0m\u001b[0m\n",
            "\u001b[0;32m/usr/local/lib/python3.10/dist-packages/rocketpy/mathutils/function.py\u001b[0m in \u001b[0;36m__init__\u001b[0;34m(self, source, inputs, outputs, interpolation, extrapolation, title)\u001b[0m\n\u001b[1;32m    131\u001b[0m         \u001b[0mself\u001b[0m\u001b[0;34m.\u001b[0m\u001b[0m__interpolation__\u001b[0m \u001b[0;34m=\u001b[0m \u001b[0minterpolation\u001b[0m\u001b[0;34m\u001b[0m\u001b[0;34m\u001b[0m\u001b[0m\n\u001b[1;32m    132\u001b[0m         \u001b[0mself\u001b[0m\u001b[0;34m.\u001b[0m\u001b[0m__extrapolation__\u001b[0m \u001b[0;34m=\u001b[0m \u001b[0mextrapolation\u001b[0m\u001b[0;34m\u001b[0m\u001b[0;34m\u001b[0m\u001b[0m\n\u001b[0;32m--> 133\u001b[0;31m         \u001b[0mself\u001b[0m\u001b[0;34m.\u001b[0m\u001b[0mset_source\u001b[0m\u001b[0;34m(\u001b[0m\u001b[0msource\u001b[0m\u001b[0;34m)\u001b[0m\u001b[0;34m\u001b[0m\u001b[0;34m\u001b[0m\u001b[0m\n\u001b[0m\u001b[1;32m    134\u001b[0m         \u001b[0mself\u001b[0m\u001b[0;34m.\u001b[0m\u001b[0mset_title\u001b[0m\u001b[0;34m(\u001b[0m\u001b[0mtitle\u001b[0m\u001b[0;34m)\u001b[0m\u001b[0;34m\u001b[0m\u001b[0;34m\u001b[0m\u001b[0m\n\u001b[1;32m    135\u001b[0m \u001b[0;34m\u001b[0m\u001b[0m\n",
            "\u001b[0;32m/usr/local/lib/python3.10/dist-packages/rocketpy/mathutils/function.py\u001b[0m in \u001b[0;36mset_source\u001b[0;34m(self, source)\u001b[0m\n\u001b[1;32m    307\u001b[0m             \u001b[0;32melse\u001b[0m\u001b[0;34m:\u001b[0m\u001b[0;34m\u001b[0m\u001b[0;34m\u001b[0m\u001b[0m\n\u001b[1;32m    308\u001b[0m                 \u001b[0;31m# Updates interpolation coefficients\u001b[0m\u001b[0;34m\u001b[0m\u001b[0;34m\u001b[0m\u001b[0m\n\u001b[0;32m--> 309\u001b[0;31m                 \u001b[0mself\u001b[0m\u001b[0;34m.\u001b[0m\u001b[0mset_interpolation\u001b[0m\u001b[0;34m(\u001b[0m\u001b[0mself\u001b[0m\u001b[0;34m.\u001b[0m\u001b[0m__interpolation__\u001b[0m\u001b[0;34m)\u001b[0m\u001b[0;34m\u001b[0m\u001b[0;34m\u001b[0m\u001b[0m\n\u001b[0m\u001b[1;32m    310\u001b[0m         \u001b[0;32mreturn\u001b[0m \u001b[0mself\u001b[0m\u001b[0;34m\u001b[0m\u001b[0;34m\u001b[0m\u001b[0m\n\u001b[1;32m    311\u001b[0m \u001b[0;34m\u001b[0m\u001b[0m\n",
            "\u001b[0;32m/usr/local/lib/python3.10/dist-packages/rocketpy/mathutils/function.py\u001b[0m in \u001b[0;36mset_interpolation\u001b[0;34m(self, method)\u001b[0m\n\u001b[1;32m    352\u001b[0m         \u001b[0;31m# Shepard, and linear do not\u001b[0m\u001b[0;34m\u001b[0m\u001b[0;34m\u001b[0m\u001b[0m\n\u001b[1;32m    353\u001b[0m         \u001b[0;32mif\u001b[0m \u001b[0mmethod\u001b[0m \u001b[0;34m==\u001b[0m \u001b[0;34m\"spline\"\u001b[0m\u001b[0;34m:\u001b[0m\u001b[0;34m\u001b[0m\u001b[0;34m\u001b[0m\u001b[0m\n\u001b[0;32m--> 354\u001b[0;31m             \u001b[0mself\u001b[0m\u001b[0;34m.\u001b[0m\u001b[0m__interpolate_spline__\u001b[0m\u001b[0;34m(\u001b[0m\u001b[0;34m)\u001b[0m\u001b[0;34m\u001b[0m\u001b[0;34m\u001b[0m\u001b[0m\n\u001b[0m\u001b[1;32m    355\u001b[0m         \u001b[0;32melif\u001b[0m \u001b[0mmethod\u001b[0m \u001b[0;34m==\u001b[0m \u001b[0;34m\"polynomial\"\u001b[0m\u001b[0;34m:\u001b[0m\u001b[0;34m\u001b[0m\u001b[0;34m\u001b[0m\u001b[0m\n\u001b[1;32m    356\u001b[0m             \u001b[0mself\u001b[0m\u001b[0;34m.\u001b[0m\u001b[0m__interpolate_polynomial__\u001b[0m\u001b[0;34m(\u001b[0m\u001b[0;34m)\u001b[0m\u001b[0;34m\u001b[0m\u001b[0;34m\u001b[0m\u001b[0m\n",
            "\u001b[0;32m/usr/local/lib/python3.10/dist-packages/rocketpy/mathutils/function.py\u001b[0m in \u001b[0;36m__interpolate_spline__\u001b[0;34m(self)\u001b[0m\n\u001b[1;32m   1632\u001b[0m         \u001b[0mvector_b\u001b[0m\u001b[0;34m.\u001b[0m\u001b[0mappend\u001b[0m\u001b[0;34m(\u001b[0m\u001b[0;36m0\u001b[0m\u001b[0;34m)\u001b[0m\u001b[0;34m\u001b[0m\u001b[0;34m\u001b[0m\u001b[0m\n\u001b[1;32m   1633\u001b[0m         \u001b[0;31m# Solve the system for c coefficients\u001b[0m\u001b[0;34m\u001b[0m\u001b[0;34m\u001b[0m\u001b[0m\n\u001b[0;32m-> 1634\u001b[0;31m         c = linalg.solve_banded(\n\u001b[0m\u001b[1;32m   1635\u001b[0m             \u001b[0;34m(\u001b[0m\u001b[0;36m1\u001b[0m\u001b[0;34m,\u001b[0m \u001b[0;36m1\u001b[0m\u001b[0;34m)\u001b[0m\u001b[0;34m,\u001b[0m \u001b[0mbanded_matrix\u001b[0m\u001b[0;34m,\u001b[0m \u001b[0mvector_b\u001b[0m\u001b[0;34m,\u001b[0m \u001b[0moverwrite_ab\u001b[0m\u001b[0;34m=\u001b[0m\u001b[0;32mTrue\u001b[0m\u001b[0;34m,\u001b[0m \u001b[0moverwrite_b\u001b[0m\u001b[0;34m=\u001b[0m\u001b[0;32mTrue\u001b[0m\u001b[0;34m\u001b[0m\u001b[0;34m\u001b[0m\u001b[0m\n\u001b[1;32m   1636\u001b[0m         )\n",
            "\u001b[0;32m/usr/local/lib/python3.10/dist-packages/scipy/linalg/_basic.py\u001b[0m in \u001b[0;36msolve_banded\u001b[0;34m(l_and_u, ab, b, overwrite_ab, overwrite_b, check_finite)\u001b[0m\n\u001b[1;32m    431\u001b[0m \u001b[0;34m\u001b[0m\u001b[0m\n\u001b[1;32m    432\u001b[0m     \u001b[0ma1\u001b[0m \u001b[0;34m=\u001b[0m \u001b[0m_asarray_validated\u001b[0m\u001b[0;34m(\u001b[0m\u001b[0mab\u001b[0m\u001b[0;34m,\u001b[0m \u001b[0mcheck_finite\u001b[0m\u001b[0;34m=\u001b[0m\u001b[0mcheck_finite\u001b[0m\u001b[0;34m,\u001b[0m \u001b[0mas_inexact\u001b[0m\u001b[0;34m=\u001b[0m\u001b[0;32mTrue\u001b[0m\u001b[0;34m)\u001b[0m\u001b[0;34m\u001b[0m\u001b[0;34m\u001b[0m\u001b[0m\n\u001b[0;32m--> 433\u001b[0;31m     \u001b[0mb1\u001b[0m \u001b[0;34m=\u001b[0m \u001b[0m_asarray_validated\u001b[0m\u001b[0;34m(\u001b[0m\u001b[0mb\u001b[0m\u001b[0;34m,\u001b[0m \u001b[0mcheck_finite\u001b[0m\u001b[0;34m=\u001b[0m\u001b[0mcheck_finite\u001b[0m\u001b[0;34m,\u001b[0m \u001b[0mas_inexact\u001b[0m\u001b[0;34m=\u001b[0m\u001b[0;32mTrue\u001b[0m\u001b[0;34m)\u001b[0m\u001b[0;34m\u001b[0m\u001b[0;34m\u001b[0m\u001b[0m\n\u001b[0m\u001b[1;32m    434\u001b[0m     \u001b[0;31m# Validate shapes.\u001b[0m\u001b[0;34m\u001b[0m\u001b[0;34m\u001b[0m\u001b[0m\n\u001b[1;32m    435\u001b[0m     \u001b[0;32mif\u001b[0m \u001b[0ma1\u001b[0m\u001b[0;34m.\u001b[0m\u001b[0mshape\u001b[0m\u001b[0;34m[\u001b[0m\u001b[0;34m-\u001b[0m\u001b[0;36m1\u001b[0m\u001b[0;34m]\u001b[0m \u001b[0;34m!=\u001b[0m \u001b[0mb1\u001b[0m\u001b[0;34m.\u001b[0m\u001b[0mshape\u001b[0m\u001b[0;34m[\u001b[0m\u001b[0;36m0\u001b[0m\u001b[0;34m]\u001b[0m\u001b[0;34m:\u001b[0m\u001b[0;34m\u001b[0m\u001b[0;34m\u001b[0m\u001b[0m\n",
            "\u001b[0;32m/usr/local/lib/python3.10/dist-packages/scipy/_lib/_util.py\u001b[0m in \u001b[0;36m_asarray_validated\u001b[0;34m(a, check_finite, sparse_ok, objects_ok, mask_ok, as_inexact)\u001b[0m\n\u001b[1;32m    238\u001b[0m             \u001b[0;32mraise\u001b[0m \u001b[0mValueError\u001b[0m\u001b[0;34m(\u001b[0m\u001b[0;34m'masked arrays are not supported'\u001b[0m\u001b[0;34m)\u001b[0m\u001b[0;34m\u001b[0m\u001b[0;34m\u001b[0m\u001b[0m\n\u001b[1;32m    239\u001b[0m     \u001b[0mtoarray\u001b[0m \u001b[0;34m=\u001b[0m \u001b[0mnp\u001b[0m\u001b[0;34m.\u001b[0m\u001b[0masarray_chkfinite\u001b[0m \u001b[0;32mif\u001b[0m \u001b[0mcheck_finite\u001b[0m \u001b[0;32melse\u001b[0m \u001b[0mnp\u001b[0m\u001b[0;34m.\u001b[0m\u001b[0masarray\u001b[0m\u001b[0;34m\u001b[0m\u001b[0;34m\u001b[0m\u001b[0m\n\u001b[0;32m--> 240\u001b[0;31m     \u001b[0ma\u001b[0m \u001b[0;34m=\u001b[0m \u001b[0mtoarray\u001b[0m\u001b[0;34m(\u001b[0m\u001b[0ma\u001b[0m\u001b[0;34m)\u001b[0m\u001b[0;34m\u001b[0m\u001b[0;34m\u001b[0m\u001b[0m\n\u001b[0m\u001b[1;32m    241\u001b[0m     \u001b[0;32mif\u001b[0m \u001b[0;32mnot\u001b[0m \u001b[0mobjects_ok\u001b[0m\u001b[0;34m:\u001b[0m\u001b[0;34m\u001b[0m\u001b[0;34m\u001b[0m\u001b[0m\n\u001b[1;32m    242\u001b[0m         \u001b[0;32mif\u001b[0m \u001b[0ma\u001b[0m\u001b[0;34m.\u001b[0m\u001b[0mdtype\u001b[0m \u001b[0;32mis\u001b[0m \u001b[0mnp\u001b[0m\u001b[0;34m.\u001b[0m\u001b[0mdtype\u001b[0m\u001b[0;34m(\u001b[0m\u001b[0;34m'O'\u001b[0m\u001b[0;34m)\u001b[0m\u001b[0;34m:\u001b[0m\u001b[0;34m\u001b[0m\u001b[0;34m\u001b[0m\u001b[0m\n",
            "\u001b[0;32m/usr/local/lib/python3.10/dist-packages/numpy/lib/function_base.py\u001b[0m in \u001b[0;36masarray_chkfinite\u001b[0;34m(a, dtype, order)\u001b[0m\n\u001b[1;32m    628\u001b[0m     \u001b[0ma\u001b[0m \u001b[0;34m=\u001b[0m \u001b[0masarray\u001b[0m\u001b[0;34m(\u001b[0m\u001b[0ma\u001b[0m\u001b[0;34m,\u001b[0m \u001b[0mdtype\u001b[0m\u001b[0;34m=\u001b[0m\u001b[0mdtype\u001b[0m\u001b[0;34m,\u001b[0m \u001b[0morder\u001b[0m\u001b[0;34m=\u001b[0m\u001b[0morder\u001b[0m\u001b[0;34m)\u001b[0m\u001b[0;34m\u001b[0m\u001b[0;34m\u001b[0m\u001b[0m\n\u001b[1;32m    629\u001b[0m     \u001b[0;32mif\u001b[0m \u001b[0ma\u001b[0m\u001b[0;34m.\u001b[0m\u001b[0mdtype\u001b[0m\u001b[0;34m.\u001b[0m\u001b[0mchar\u001b[0m \u001b[0;32min\u001b[0m \u001b[0mtypecodes\u001b[0m\u001b[0;34m[\u001b[0m\u001b[0;34m'AllFloat'\u001b[0m\u001b[0;34m]\u001b[0m \u001b[0;32mand\u001b[0m \u001b[0;32mnot\u001b[0m \u001b[0mnp\u001b[0m\u001b[0;34m.\u001b[0m\u001b[0misfinite\u001b[0m\u001b[0;34m(\u001b[0m\u001b[0ma\u001b[0m\u001b[0;34m)\u001b[0m\u001b[0;34m.\u001b[0m\u001b[0mall\u001b[0m\u001b[0;34m(\u001b[0m\u001b[0;34m)\u001b[0m\u001b[0;34m:\u001b[0m\u001b[0;34m\u001b[0m\u001b[0;34m\u001b[0m\u001b[0m\n\u001b[0;32m--> 630\u001b[0;31m         raise ValueError(\n\u001b[0m\u001b[1;32m    631\u001b[0m             \"array must not contain infs or NaNs\")\n\u001b[1;32m    632\u001b[0m     \u001b[0;32mreturn\u001b[0m \u001b[0ma\u001b[0m\u001b[0;34m\u001b[0m\u001b[0;34m\u001b[0m\u001b[0m\n",
            "\u001b[0;31mValueError\u001b[0m: array must not contain infs or NaNs"
          ]
        }
      ]
    },
    {
      "cell_type": "code",
      "source": [
        "test_flight.all_info()"
      ],
      "metadata": {
        "id": "10h4dslRkDeY"
      },
      "execution_count": null,
      "outputs": []
    },
    {
      "cell_type": "code",
      "source": [
        "test_flight.export_kml(file_name=\"test_flight.kml\")"
      ],
      "metadata": {
        "id": "kNd9KsPLj_JC"
      },
      "execution_count": null,
      "outputs": []
    },
    {
      "cell_type": "markdown",
      "source": [
        "#Importing Google Sheets"
      ],
      "metadata": {
        "id": "k5W_GPIhkEyw"
      }
    },
    {
      "cell_type": "code",
      "source": [
        "import pandas\n",
        "\n",
        "from google.colab import auth\n",
        "auth.authenticate_user()\n",
        "\n",
        "import gspread\n",
        "from google.auth import default\n",
        "creds,_  = default()\n",
        "\n",
        "gc = gspread.authorize(creds)\n",
        "\n",
        "#name of google sheets\n",
        "worksheet = gc.open('Experiment-9').sheet1\n",
        "\n",
        "D4 = worksheet.acell('D4').value\n",
        "print(D4)\n",
        "\n",
        "Row1 = worksheet.row_values(1)\n",
        "print(Row1)\n",
        "\n",
        "Column1 = worksheet.col_values(1)\n",
        "print(Column1)\n",
        "\n",
        "Column1Data = worksheet.get('A2:A7')\n",
        "print(Column1Data)"
      ],
      "metadata": {
        "colab": {
          "base_uri": "https://localhost:8080/"
        },
        "id": "sg_m9TgsdfdL",
        "outputId": "35a1af3e-9553-4988-b25f-7ffe8cf19f18"
      },
      "execution_count": null,
      "outputs": [
        {
          "output_type": "stream",
          "name": "stdout",
          "text": [
            "30.511217\n",
            "['VideoAnalysis: Time (s)', 'VideoAnalysis: X (px)', 'VideoAnalysis: Y (px)', 'VideoAnalysis: X Velocity (px/s)', 'VideoAnalysis: Y Velocity (px/s)']\n",
            "['VideoAnalysis: Time (s)', '0', '0.033333', '0.066667', '0.1', '0.966667', '1.001667', '1.035', '1.068333', '1.101667', '1.135', '1.168333', '1.201667', '1.235', '1.268333', '1.301667', '1.335', '1.368333', '1.401667', '1.435', '1.468333', '1.501667', '1.535', '1.568333', '1.601667', '1.635', '1.668333', '1.701667', '1.735', '1.768333', '1.801667', '1.835', '1.868333', '1.901667', '1.935', '1.968333', '2.001667', '2.035', '2.068333', '2.101667', '2.135', '2.168333', '2.201667', '2.235', '2.268333', '2.301667', '2.335']\n",
            "[['0'], ['0.033333'], ['0.066667'], ['0.1'], ['0.966667'], ['1.001667']]\n"
          ]
        }
      ]
    },
    {
      "cell_type": "markdown",
      "source": [
        "# DISPERSION ANALYSIS\n",
        "None of this has been changed, it was just copied from a website."
      ],
      "metadata": {
        "id": "6kQ3r65Fy9QB"
      }
    },
    {
      "cell_type": "code",
      "source": [
        "!curl -o dispersion_analysis_inputs/Cd_PowerOff.csv --create-dirs https://raw.githubusercontent.com/RocketPy-Team/RocketPy/master/docs/notebooks/dispersion_analysis/dispersion_analysis_inputs/Cd_PowerOff.csv\n",
        "!curl -o dispersion_analysis_inputs/Cd_PowerOn.csv --create-dirs https://raw.githubusercontent.com/RocketPy-Team/RocketPy/master/docs/notebooks/dispersion_analysis/dispersion_analysis_inputs/Cd_PowerOn.csv\n",
        "!curl -o dispersion_analysis_inputs/LASC2019_reanalysis.nc --create-dirs https://raw.githubusercontent.com/RocketPy-Team/RocketPy/master/docs/notebooks/dispersion_analysis/dispersion_analysis_inputs/LASC2019_reanalysis.nc\n",
        "!curl -o dispersion_analysis_inputs/thrustCurve.csv --create-dirs https://raw.githubusercontent.com/RocketPy-Team/RocketPy/master/docs/notebooks/dispersion_analysis/dispersion_analysis_inputs/thrustCurve.csv\n",
        "!curl -o dispersion_analysis_inputs/Valetudo_basemap_final.jpg --create-dirs https://raw.githubusercontent.com/RocketPy-Team/RocketPy/master/docs/notebooks/dispersion_analysis/dispersion_analysis_inputs/Valetudo_basemap_final.jpg\n",
        "!mkdir -p dispersion_analysis_outputs"
      ],
      "metadata": {
        "colab": {
          "base_uri": "https://localhost:8080/"
        },
        "id": "ZeQqk-fLy3Bl",
        "outputId": "29634250-91bf-4501-b60b-f168b8b733d3"
      },
      "execution_count": null,
      "outputs": [
        {
          "output_type": "stream",
          "name": "stdout",
          "text": [
            "  % Total    % Received % Xferd  Average Speed   Time    Time     Time  Current\n",
            "                                 Dload  Upload   Total   Spent    Left  Speed\n",
            "100  1672  100  1672    0     0   5620      0 --:--:-- --:--:-- --:--:--  5629\n",
            "  % Total    % Received % Xferd  Average Speed   Time    Time     Time  Current\n",
            "                                 Dload  Upload   Total   Spent    Left  Speed\n",
            "100  1666  100  1666    0     0   7544      0 --:--:-- --:--:-- --:--:--  7572\n",
            "  % Total    % Received % Xferd  Average Speed   Time    Time     Time  Current\n",
            "                                 Dload  Upload   Total   Spent    Left  Speed\n",
            "100  472k  100  472k    0     0  1368k      0 --:--:-- --:--:-- --:--:-- 1369k\n",
            "  % Total    % Received % Xferd  Average Speed   Time    Time     Time  Current\n",
            "                                 Dload  Upload   Total   Spent    Left  Speed\n",
            "100  2849  100  2849    0     0  12625      0 --:--:-- --:--:-- --:--:-- 12662\n",
            "  % Total    % Received % Xferd  Average Speed   Time    Time     Time  Current\n",
            "                                 Dload  Upload   Total   Spent    Left  Speed\n",
            "100  347k  100  347k    0     0   818k      0 --:--:-- --:--:-- --:--:--  817k\n"
          ]
        }
      ]
    },
    {
      "cell_type": "code",
      "source": [
        "!pip install rocketpy imageio"
      ],
      "metadata": {
        "colab": {
          "base_uri": "https://localhost:8080/"
        },
        "id": "2A1Kw_mLy8Rx",
        "outputId": "e7ef896f-1e84-4c93-d872-83ad31517f93"
      },
      "execution_count": null,
      "outputs": [
        {
          "output_type": "stream",
          "name": "stdout",
          "text": [
            "Requirement already satisfied: rocketpy in /usr/local/lib/python3.10/dist-packages (1.2.0)\n",
            "Requirement already satisfied: imageio in /usr/local/lib/python3.10/dist-packages (2.31.6)\n",
            "Requirement already satisfied: numpy>=1.13 in /usr/local/lib/python3.10/dist-packages (from rocketpy) (1.25.2)\n",
            "Requirement already satisfied: scipy>=1.0 in /usr/local/lib/python3.10/dist-packages (from rocketpy) (1.11.4)\n",
            "Requirement already satisfied: matplotlib>=3.0 in /usr/local/lib/python3.10/dist-packages (from rocketpy) (3.7.1)\n",
            "Requirement already satisfied: netCDF4>=1.6.4 in /usr/local/lib/python3.10/dist-packages (from rocketpy) (1.6.5)\n",
            "Requirement already satisfied: requests in /usr/local/lib/python3.10/dist-packages (from rocketpy) (2.31.0)\n",
            "Requirement already satisfied: pytz in /usr/local/lib/python3.10/dist-packages (from rocketpy) (2023.4)\n",
            "Requirement already satisfied: simplekml in /usr/local/lib/python3.10/dist-packages (from rocketpy) (1.3.6)\n",
            "Requirement already satisfied: pillow<10.1.0,>=8.3.2 in /usr/local/lib/python3.10/dist-packages (from imageio) (9.4.0)\n",
            "Requirement already satisfied: contourpy>=1.0.1 in /usr/local/lib/python3.10/dist-packages (from matplotlib>=3.0->rocketpy) (1.2.0)\n",
            "Requirement already satisfied: cycler>=0.10 in /usr/local/lib/python3.10/dist-packages (from matplotlib>=3.0->rocketpy) (0.12.1)\n",
            "Requirement already satisfied: fonttools>=4.22.0 in /usr/local/lib/python3.10/dist-packages (from matplotlib>=3.0->rocketpy) (4.48.1)\n",
            "Requirement already satisfied: kiwisolver>=1.0.1 in /usr/local/lib/python3.10/dist-packages (from matplotlib>=3.0->rocketpy) (1.4.5)\n",
            "Requirement already satisfied: packaging>=20.0 in /usr/local/lib/python3.10/dist-packages (from matplotlib>=3.0->rocketpy) (23.2)\n",
            "Requirement already satisfied: pyparsing>=2.3.1 in /usr/local/lib/python3.10/dist-packages (from matplotlib>=3.0->rocketpy) (3.1.1)\n",
            "Requirement already satisfied: python-dateutil>=2.7 in /usr/local/lib/python3.10/dist-packages (from matplotlib>=3.0->rocketpy) (2.8.2)\n",
            "Requirement already satisfied: cftime in /usr/local/lib/python3.10/dist-packages (from netCDF4>=1.6.4->rocketpy) (1.6.3)\n",
            "Requirement already satisfied: certifi in /usr/local/lib/python3.10/dist-packages (from netCDF4>=1.6.4->rocketpy) (2024.2.2)\n",
            "Requirement already satisfied: charset-normalizer<4,>=2 in /usr/local/lib/python3.10/dist-packages (from requests->rocketpy) (3.3.2)\n",
            "Requirement already satisfied: idna<4,>=2.5 in /usr/local/lib/python3.10/dist-packages (from requests->rocketpy) (3.6)\n",
            "Requirement already satisfied: urllib3<3,>=1.21.1 in /usr/local/lib/python3.10/dist-packages (from requests->rocketpy) (2.0.7)\n",
            "Requirement already satisfied: six>=1.5 in /usr/local/lib/python3.10/dist-packages (from python-dateutil>=2.7->matplotlib>=3.0->rocketpy) (1.16.0)\n"
          ]
        }
      ]
    },
    {
      "cell_type": "code",
      "source": [
        "from time import process_time, time\n",
        "\n",
        "from rocketpy import Environment, SolidMotor, Rocket, Flight\n",
        "\n",
        "import numpy as np\n",
        "from numpy.random import normal, choice\n",
        "from IPython.display import display"
      ],
      "metadata": {
        "id": "PpKzml7MzGZK"
      },
      "execution_count": null,
      "outputs": []
    },
    {
      "cell_type": "code",
      "source": [
        "%config InlineBackend.figure_formats = ['svg']\n",
        "import matplotlib as mpl\n",
        "import matplotlib.pyplot as plt\n",
        "\n",
        "%matplotlib inline\n",
        "mpl.rcParams[\"figure.figsize\"] = [8, 5]\n",
        "mpl.rcParams[\"figure.dpi\"] = 120\n",
        "mpl.rcParams[\"font.size\"] = 14\n",
        "mpl.rcParams[\"legend.fontsize\"] = 14\n",
        "mpl.rcParams[\"figure.titlesize\"] = 14"
      ],
      "metadata": {
        "id": "74fr6bhYzJhK"
      },
      "execution_count": null,
      "outputs": []
    },
    {
      "cell_type": "code",
      "source": [
        "#Nothing has been done yet\n",
        "\n",
        "analysis_parameters = {\n",
        "    # Mass Details\n",
        "    # Rocket's dry mass without motor (kg) and its uncertainty (standard deviation)\n",
        "    \"rocket_mass\": (7.257, 0.001),\n",
        "    # Rocket's inertia moment perpendicular to its axis (kg*m^2)\n",
        "    \"rocket_inertia_11\": (3.675, 0.03675),\n",
        "    # Rocket's inertia moment relative to its axis (kg*m^2)\n",
        "    \"rocket_inertia_33\": (0.007, 0.00007),\n",
        "    # Motors's dry mass without propellant (kg) and its uncertainty (standard deviation)\n",
        "    \"motor_dry_mass\": (1.000, 0.001),\n",
        "    # Motor's dry inertia moment perpendicular to its axis (kg*m^2)\n",
        "    \"motor_inertia_11\": (1.675, 0.01675),\n",
        "    # Motors's dry inertia moment relative to its axis (kg*m^2)\n",
        "    \"motor_inertia_33\": (0.003, 0.00003),\n",
        "    # Distance between rocket's center of dry mass and motor's center of dry mass (m)\n",
        "    \"motor_dry_mass_position\": (0.5, 0.001),\n",
        "    # Propulsion Details - run help(SolidMotor) for more information\n",
        "    # Motor total impulse (N*s)\n",
        "    \"impulse\": (1415.15, 35.3),\n",
        "    # Motor burn out time (s)\n",
        "    \"burn_time\": (5.274, 1),\n",
        "    # Motor's nozzle radius (m)\n",
        "    \"nozzle_radius\": (21.642 / 1000, 0.5 / 1000),\n",
        "    # Motor's nozzle throat radius (m)\n",
        "    \"throat_radius\": (8 / 1000, 0.5 / 1000),\n",
        "    # Motor's grain separation (axial distance between two grains) (m)\n",
        "    \"grain_separation\": (6 / 1000, 1 / 1000),\n",
        "    # Motor's grain density (kg/m^3)\n",
        "    \"grain_density\": (1707, 50),\n",
        "    # Motor's grain outer radius (m)\n",
        "    \"grain_outer_radius\": (21.4 / 1000, 0.375 / 1000),\n",
        "    # Motor's grain inner radius (m)\n",
        "    \"grain_initial_inner_radius\": (9.65 / 1000, 0.375 / 1000),\n",
        "    # Motor's grain height (m)\n",
        "    \"grain_initial_height\": (120 / 1000, 1 / 1000),\n",
        "    # Aerodynamic Details - run help(Rocket) for more information\n",
        "    # Rocket's radius (kg*m^2)\n",
        "    \"radius\": (40.45 / 1000, 0.001),\n",
        "    # Distance between rocket's center of dry mass and nozzle exit plane (m) (negative)\n",
        "    \"nozzle_position\": (-1.024, 0.001),\n",
        "    # Distance between rocket's center of dry mass and and center of propellant mass (m) (negative)\n",
        "    \"grains_center_of_mass_position\": (-0.571, 0.001),\n",
        "    # Multiplier for rocket's drag curve. Usually has a mean value of 1 and a uncertainty of 5% to 10%\n",
        "    \"power_off_drag\": (0.9081 / 1.05, 0.033),\n",
        "    # Multiplier for rocket's drag curve. Usually has a mean value of 1 and a uncertainty of 5% to 10%\n",
        "    \"power_on_drag\": (0.9081 / 1.05, 0.033),\n",
        "    # Rocket's nose cone length (m)\n",
        "    \"nose_length\": (0.274, 0.001),\n",
        "    # Axial distance between rocket's center of dry mass and nearest point in its nose cone (m)\n",
        "    \"nose_distance_to_CM\": (1.134, 0.001),\n",
        "    # Fin span (m)\n",
        "    \"fin_span\": (0.077, 0.0005),\n",
        "    # Fin root chord (m)\n",
        "    \"fin_root_chord\": (0.058, 0.0005),\n",
        "    # Fin tip chord (m)\n",
        "    \"fin_tip_chord\": (0.018, 0.0005),\n",
        "    # Axial distance between rocket's center of dry mass and nearest point in its fin (m)\n",
        "    \"fin_distance_to_CM\": (-0.906, 0.001),\n",
        "    # Launch and Environment Details - run help(Environment) and help(Flight) for more information\n",
        "    # Launch rail inclination angle relative to the horizontal plane (degrees)\n",
        "    \"inclination\": (84.7, 1),\n",
        "    # Launch rail heading relative to north (degrees)\n",
        "    \"heading\": (53, 2),\n",
        "    # Launch rail length (m)\n",
        "    \"rail_length\": (5.7, 0.0005),\n",
        "    # Members of the ensemble forecast to be used\n",
        "    \"ensemble_member\": list(range(10)),\n",
        "    # Parachute Details - run help(Rocket) for more information\n",
        "    # Drag coefficient times reference area for the drogue chute (m^2)\n",
        "    \"cd_s_drogue\": (0.349 * 1.3, 0.07),\n",
        "    # Time delay between parachute ejection signal is detected and parachute is inflated (s)\n",
        "    \"lag_rec\": (1, 0.5),\n",
        "    # Electronic Systems Details - run help(Rocket) for more information\n",
        "    # Time delay between sensor signal is received and ejection signal is fired (s)\n",
        "    \"lag_se\": (0.73, 0.16),\n",
        "}"
      ],
      "metadata": {
        "id": "HWoMTnVEzTks"
      },
      "execution_count": null,
      "outputs": []
    },
    {
      "cell_type": "code",
      "source": [
        "def flight_settings(analysis_parameters, total_number):\n",
        "    i = 0\n",
        "    while i < total_number:\n",
        "        # Generate a flight setting\n",
        "        flight_setting = {}\n",
        "        for parameter_key, parameter_value in analysis_parameters.items():\n",
        "            if type(parameter_value) is tuple:\n",
        "                flight_setting[parameter_key] = normal(*parameter_value)\n",
        "            else:\n",
        "                flight_setting[parameter_key] = choice(parameter_value)\n",
        "\n",
        "        # Skip if certain values are negative, which happens due to the normal curve but isnt realistic\n",
        "        if flight_setting[\"lag_rec\"] < 0 or flight_setting[\"lag_se\"] < 0:\n",
        "            continue\n",
        "\n",
        "        # Update counter\n",
        "        i += 1\n",
        "        # Yield a flight setting\n",
        "        yield flight_setting"
      ],
      "metadata": {
        "id": "02LNvnTUzZfG"
      },
      "execution_count": null,
      "outputs": []
    },
    {
      "cell_type": "code",
      "source": [
        "def export_flight_data(flight_setting, flight_data, exec_time):\n",
        "    # Generate flight results\n",
        "    flight_result = {\n",
        "        \"out_of_rail_time\": flight_data.out_of_rail_time,\n",
        "        \"out_of_rail_velocity\": flight_data.out_of_rail_velocity,\n",
        "        \"max_velocity\": flight_data.speed.max,\n",
        "        \"apogee_time\": flight_data.apogee_time,\n",
        "        \"apogee_altitude\": flight_data.apogee - Env.elevation,\n",
        "        \"apogee_x\": flight_data.apogee_x,\n",
        "        \"apogee_y\": flight_data.apogee_y,\n",
        "        \"impact_time\": flight_data.t_final,\n",
        "        \"impact_x\": flight_data.x_impact,\n",
        "        \"impact_y\": flight_data.y_impact,\n",
        "        \"impact_velocity\": flight_data.impact_velocity,\n",
        "        \"initial_static_margin\": flight_data.rocket.static_margin(0),\n",
        "        \"out_of_rail_static_margin\": flight_data.rocket.static_margin(\n",
        "            flight_data.out_of_rail_time\n",
        "        ),\n",
        "        \"final_static_margin\": flight_data.rocket.static_margin(\n",
        "            flight_data.rocket.motor.burn_out_time\n",
        "        ),\n",
        "        \"number_of_events\": len(flight_data.parachute_events),\n",
        "        \"execution_time\": exec_time,\n",
        "    }\n",
        "\n",
        "    # Take care of parachute results\n",
        "    if len(flight_data.parachute_events) > 0:\n",
        "        flight_result[\"drogue_triggerTime\"] = flight_data.parachute_events[0][0]\n",
        "        flight_result[\"drogue_inflated_time\"] = (\n",
        "            flight_data.parachute_events[0][0] + flight_data.parachute_events[0][1].lag\n",
        "        )\n",
        "        flight_result[\"drogue_inflated_velocity\"] = flight_data.speed(\n",
        "            flight_data.parachute_events[0][0] + flight_data.parachute_events[0][1].lag\n",
        "        )\n",
        "    else:\n",
        "        flight_result[\"drogue_triggerTime\"] = 0\n",
        "        flight_result[\"drogue_inflated_time\"] = 0\n",
        "        flight_result[\"drogue_inflated_velocity\"] = 0\n",
        "\n",
        "    # Write flight setting and results to file\n",
        "    dispersion_input_file.write(str(flight_setting) + \"\\n\")\n",
        "    dispersion_output_file.write(str(flight_result) + \"\\n\")\n",
        "\n",
        "\n",
        "def export_flight_error(flight_setting):\n",
        "    dispersion_error_file.write(str(flight_setting) + \"\\n\")\n"
      ],
      "metadata": {
        "id": "yQOPvSj8zeWy"
      },
      "execution_count": null,
      "outputs": []
    },
    {
      "cell_type": "code",
      "source": [
        "# Basic analysis info\n",
        "filename = \"dispersion_analysis_outputs/valetudo_rocket_v0\"\n",
        "number_of_simulations = 100\n",
        "\n",
        "# Create data files for inputs, outputs and error logging\n",
        "dispersion_error_file = open(str(filename) + \".disp_errors.txt\", \"w\")\n",
        "dispersion_input_file = open(str(filename) + \".disp_inputs.txt\", \"w\")\n",
        "dispersion_output_file = open(str(filename) + \".disp_outputs.txt\", \"w\")\n",
        "\n",
        "# Initialize counter and timer\n",
        "i = 0\n",
        "\n",
        "initial_wall_time = time()\n",
        "initial_cpu_time = process_time()\n",
        "\n",
        "# Define basic Environment object\n",
        "Env = Environment(date=(2019, 8, 10, 21), latitude=-23.363611, longitude=-48.011389)\n",
        "Env.set_elevation(668)\n",
        "Env.max_expected_height = 1500\n",
        "Env.set_atmospheric_model(\n",
        "    type=\"Ensemble\",\n",
        "    file=\"dispersion_analysis_inputs/LASC2019_reanalysis.nc\",\n",
        "    dictionary=\"ECMWF\",\n",
        ")\n",
        "\n",
        "\n",
        "# Set up parachutes. This rocket, named Valetudo, only has a drogue chute.\n",
        "def drogue_trigger(p, h, y):\n",
        "    # Check if rocket is going down, i.e. if it has passed the apogee\n",
        "    vertical_velocity = y[5]\n",
        "    # Return true to activate parachute once the vertical velocity is negative\n",
        "    return True if vertical_velocity < 0 else False\n",
        "\n",
        "\n",
        "# Iterate over flight settings\n",
        "out = display(\"Starting\", display_id=True)\n",
        "for setting in flight_settings(analysis_parameters, number_of_simulations):\n",
        "    start_time = process_time()\n",
        "    i += 1\n",
        "\n",
        "    # Update environment object\n",
        "    Env.select_ensemble_member(setting[\"ensemble_member\"])\n",
        "\n",
        "    # Create motor\n",
        "    Keron = SolidMotor(\n",
        "        thrust_source=\"dispersion_analysis_inputs/thrustCurve.csv\",\n",
        "        burn_time=5.274,\n",
        "        reshape_thrust_curve=(setting[\"burn_time\"], setting[\"impulse\"]),\n",
        "        nozzle_radius=setting[\"nozzle_radius\"],\n",
        "        throat_radius=setting[\"throat_radius\"],\n",
        "        grain_number=6,\n",
        "        grain_separation=setting[\"grain_separation\"],\n",
        "        grain_density=setting[\"grain_density\"],\n",
        "        grain_outer_radius=setting[\"grain_outer_radius\"],\n",
        "        grain_initial_inner_radius=setting[\"grain_initial_inner_radius\"],\n",
        "        grain_initial_height=setting[\"grain_initial_height\"],\n",
        "        interpolation_method=\"linear\",\n",
        "        coordinate_system_orientation=\"nozzle_to_combustion_chamber\",\n",
        "        nozzle_position=setting[\"nozzle_position\"],\n",
        "        grains_center_of_mass_position=setting[\"grains_center_of_mass_position\"],\n",
        "        dry_mass=setting[\"motor_dry_mass\"],\n",
        "        dry_inertia=(\n",
        "            setting[\"motor_inertia_11\"],\n",
        "            setting[\"motor_inertia_11\"],\n",
        "            setting[\"motor_inertia_33\"],\n",
        "        ),\n",
        "        center_of_dry_mass_position=setting[\"motor_dry_mass_position\"],\n",
        "    )\n",
        "    # Create rocket\n",
        "    Valetudo = Rocket(\n",
        "        radius=setting[\"radius\"],\n",
        "        mass=setting[\"rocket_mass\"],\n",
        "        inertia=(\n",
        "            setting[\"rocket_inertia_11\"],\n",
        "            setting[\"rocket_inertia_11\"],\n",
        "            setting[\"rocket_inertia_33\"],\n",
        "        ),\n",
        "        power_off_drag=\"dispersion_analysis_inputs/Cd_PowerOff.csv\",\n",
        "        power_on_drag=\"dispersion_analysis_inputs/Cd_PowerOn.csv\",\n",
        "        center_of_mass_without_motor=0,\n",
        "        coordinate_system_orientation=\"tail_to_nose\",\n",
        "    )\n",
        "    Valetudo.set_rail_buttons(0.224, -0.93, 30)\n",
        "\n",
        "    Valetudo.add_motor(Keron, position=0)\n",
        "\n",
        "    # Edit rocket drag\n",
        "    Valetudo.power_off_drag *= setting[\"power_off_drag\"]\n",
        "    Valetudo.power_on_drag *= setting[\"power_on_drag\"]\n",
        "    # Add rocket nose, fins and tail\n",
        "    NoseCone = Valetudo.add_nose(\n",
        "        length=setting[\"nose_length\"],\n",
        "        kind=\"vonKarman\",\n",
        "        position=setting[\"nose_distance_to_CM\"] + setting[\"nose_length\"],\n",
        "    )\n",
        "    FinSet = Valetudo.add_trapezoidal_fins(\n",
        "        n=3,\n",
        "        span=setting[\"fin_span\"],\n",
        "        root_chord=setting[\"fin_root_chord\"],\n",
        "        tip_chord=setting[\"fin_tip_chord\"],\n",
        "        position=setting[\"fin_distance_to_CM\"],\n",
        "        cant_angle=0,\n",
        "        airfoil=None,\n",
        "    )\n",
        "    # Add parachute\n",
        "    Drogue = Valetudo.add_parachute(\n",
        "        \"Drogue\",\n",
        "        cd_s=setting[\"cd_s_drogue\"],\n",
        "        trigger=drogue_trigger,\n",
        "        sampling_rate=105,\n",
        "        lag=setting[\"lag_rec\"] + setting[\"lag_se\"],\n",
        "        noise=(0, 8.3, 0.5),\n",
        "    )\n",
        "\n",
        "    # Run trajectory simulation\n",
        "    try:\n",
        "        test_flight = Flight(\n",
        "            rocket=Valetudo,\n",
        "            environment=Env,\n",
        "            rail_length=setting[\"rail_length\"],\n",
        "            inclination=setting[\"inclination\"],\n",
        "            heading=setting[\"heading\"],\n",
        "            max_time=600,\n",
        "        )\n",
        "        export_flight_data(setting, test_flight, process_time() - start_time)\n",
        "    except Exception as E:\n",
        "        print(E)\n",
        "        export_flight_error(setting)\n",
        "\n",
        "    # Register time\n",
        "    out.update(\n",
        "        f\"Curent iteration: {i:06d} | Average Time per Iteration: {(process_time() - initial_cpu_time)/i:2.6f} s\"\n",
        "    )\n",
        "\n",
        "# Done\n",
        "\n",
        "## Print and save total time\n",
        "final_string = f\"Completed {i} iterations successfully. Total CPU time: {process_time() - initial_cpu_time} s. Total wall time: {time() - initial_wall_time} s\"\n",
        "out.update(final_string)\n",
        "dispersion_input_file.write(final_string + \"\\n\")\n",
        "dispersion_output_file.write(final_string + \"\\n\")\n",
        "dispersion_error_file.write(final_string + \"\\n\")\n",
        "\n",
        "## Close files\n",
        "dispersion_input_file.close()\n",
        "dispersion_output_file.close()\n",
        "dispersion_error_file.close()"
      ],
      "metadata": {
        "colab": {
          "base_uri": "https://localhost:8080/",
          "height": 461
        },
        "id": "tyf-_X960IuM",
        "outputId": "96a6fc27-cd87-4592-9698-4f32c7ba8d69"
      },
      "execution_count": null,
      "outputs": [
        {
          "output_type": "display_data",
          "data": {
            "text/plain": [
              "'Curent iteration: 000013 | Average Time per Iteration: 2.017203 s'"
            ],
            "application/vnd.google.colaboratory.intrinsic+json": {
              "type": "string"
            }
          },
          "metadata": {}
        },
        {
          "output_type": "error",
          "ename": "KeyboardInterrupt",
          "evalue": "",
          "traceback": [
            "\u001b[0;31m---------------------------------------------------------------------------\u001b[0m",
            "\u001b[0;31mAttributeError\u001b[0m                            Traceback (most recent call last)",
            "\u001b[0;32m/usr/local/lib/python3.10/dist-packages/rocketpy/mathutils/function.py\u001b[0m in \u001b[0;36m__truediv__\u001b[0;34m(self, other)\u001b[0m\n\u001b[1;32m   2137\u001b[0m             if (\n\u001b[0;32m-> 2138\u001b[0;31m                 \u001b[0misinstance\u001b[0m\u001b[0;34m(\u001b[0m\u001b[0mother\u001b[0m\u001b[0;34m.\u001b[0m\u001b[0msource\u001b[0m\u001b[0;34m,\u001b[0m \u001b[0mnp\u001b[0m\u001b[0;34m.\u001b[0m\u001b[0mndarray\u001b[0m\u001b[0;34m)\u001b[0m\u001b[0;34m\u001b[0m\u001b[0;34m\u001b[0m\u001b[0m\n\u001b[0m\u001b[1;32m   2139\u001b[0m                 \u001b[0;32mand\u001b[0m \u001b[0misinstance\u001b[0m\u001b[0;34m(\u001b[0m\u001b[0mself\u001b[0m\u001b[0;34m.\u001b[0m\u001b[0msource\u001b[0m\u001b[0;34m,\u001b[0m \u001b[0mnp\u001b[0m\u001b[0;34m.\u001b[0m\u001b[0mndarray\u001b[0m\u001b[0;34m)\u001b[0m\u001b[0;34m\u001b[0m\u001b[0;34m\u001b[0m\u001b[0m\n",
            "\u001b[0;31mAttributeError\u001b[0m: 'numpy.float64' object has no attribute 'source'",
            "\nDuring handling of the above exception, another exception occurred:\n",
            "\u001b[0;31mKeyboardInterrupt\u001b[0m                         Traceback (most recent call last)",
            "\u001b[0;32m<ipython-input-25-3b9aeb6b0c36>\u001b[0m in \u001b[0;36m<cell line: 37>\u001b[0;34m()\u001b[0m\n\u001b[1;32m    115\u001b[0m     \u001b[0;31m# Run trajectory simulation\u001b[0m\u001b[0;34m\u001b[0m\u001b[0;34m\u001b[0m\u001b[0m\n\u001b[1;32m    116\u001b[0m     \u001b[0;32mtry\u001b[0m\u001b[0;34m:\u001b[0m\u001b[0;34m\u001b[0m\u001b[0;34m\u001b[0m\u001b[0m\n\u001b[0;32m--> 117\u001b[0;31m         test_flight = Flight(\n\u001b[0m\u001b[1;32m    118\u001b[0m             \u001b[0mrocket\u001b[0m\u001b[0;34m=\u001b[0m\u001b[0mValetudo\u001b[0m\u001b[0;34m,\u001b[0m\u001b[0;34m\u001b[0m\u001b[0;34m\u001b[0m\u001b[0m\n\u001b[1;32m    119\u001b[0m             \u001b[0menvironment\u001b[0m\u001b[0;34m=\u001b[0m\u001b[0mEnv\u001b[0m\u001b[0;34m,\u001b[0m\u001b[0;34m\u001b[0m\u001b[0;34m\u001b[0m\u001b[0m\n",
            "\u001b[0;32m/usr/local/lib/python3.10/dist-packages/rocketpy/simulation/flight.py\u001b[0m in \u001b[0;36m__init__\u001b[0;34m(self, rocket, environment, rail_length, inclination, heading, initial_solution, terminate_on_apogee, max_time, max_time_step, min_time_step, rtol, atol, time_overshoot, verbose, name, equations_of_motion)\u001b[0m\n\u001b[1;32m    755\u001b[0m                 \u001b[0;32mwhile\u001b[0m \u001b[0mphase\u001b[0m\u001b[0;34m.\u001b[0m\u001b[0msolver\u001b[0m\u001b[0;34m.\u001b[0m\u001b[0mstatus\u001b[0m \u001b[0;34m==\u001b[0m \u001b[0;34m\"running\"\u001b[0m\u001b[0;34m:\u001b[0m\u001b[0;34m\u001b[0m\u001b[0;34m\u001b[0m\u001b[0m\n\u001b[1;32m    756\u001b[0m                     \u001b[0;31m# Step\u001b[0m\u001b[0;34m\u001b[0m\u001b[0;34m\u001b[0m\u001b[0m\n\u001b[0;32m--> 757\u001b[0;31m                     \u001b[0mphase\u001b[0m\u001b[0;34m.\u001b[0m\u001b[0msolver\u001b[0m\u001b[0;34m.\u001b[0m\u001b[0mstep\u001b[0m\u001b[0;34m(\u001b[0m\u001b[0;34m)\u001b[0m\u001b[0;34m\u001b[0m\u001b[0;34m\u001b[0m\u001b[0m\n\u001b[0m\u001b[1;32m    758\u001b[0m                     \u001b[0;31m# Save step result\u001b[0m\u001b[0;34m\u001b[0m\u001b[0;34m\u001b[0m\u001b[0m\n\u001b[1;32m    759\u001b[0m                     \u001b[0mself\u001b[0m\u001b[0;34m.\u001b[0m\u001b[0msolution\u001b[0m \u001b[0;34m+=\u001b[0m \u001b[0;34m[\u001b[0m\u001b[0;34m[\u001b[0m\u001b[0mphase\u001b[0m\u001b[0;34m.\u001b[0m\u001b[0msolver\u001b[0m\u001b[0;34m.\u001b[0m\u001b[0mt\u001b[0m\u001b[0;34m,\u001b[0m \u001b[0;34m*\u001b[0m\u001b[0mphase\u001b[0m\u001b[0;34m.\u001b[0m\u001b[0msolver\u001b[0m\u001b[0;34m.\u001b[0m\u001b[0my\u001b[0m\u001b[0;34m]\u001b[0m\u001b[0;34m]\u001b[0m\u001b[0;34m\u001b[0m\u001b[0;34m\u001b[0m\u001b[0m\n",
            "\u001b[0;32m/usr/local/lib/python3.10/dist-packages/scipy/integrate/_ivp/base.py\u001b[0m in \u001b[0;36mstep\u001b[0;34m(self)\u001b[0m\n\u001b[1;32m    195\u001b[0m         \u001b[0;32melse\u001b[0m\u001b[0;34m:\u001b[0m\u001b[0;34m\u001b[0m\u001b[0;34m\u001b[0m\u001b[0m\n\u001b[1;32m    196\u001b[0m             \u001b[0mt\u001b[0m \u001b[0;34m=\u001b[0m \u001b[0mself\u001b[0m\u001b[0;34m.\u001b[0m\u001b[0mt\u001b[0m\u001b[0;34m\u001b[0m\u001b[0;34m\u001b[0m\u001b[0m\n\u001b[0;32m--> 197\u001b[0;31m             \u001b[0msuccess\u001b[0m\u001b[0;34m,\u001b[0m \u001b[0mmessage\u001b[0m \u001b[0;34m=\u001b[0m \u001b[0mself\u001b[0m\u001b[0;34m.\u001b[0m\u001b[0m_step_impl\u001b[0m\u001b[0;34m(\u001b[0m\u001b[0;34m)\u001b[0m\u001b[0;34m\u001b[0m\u001b[0;34m\u001b[0m\u001b[0m\n\u001b[0m\u001b[1;32m    198\u001b[0m \u001b[0;34m\u001b[0m\u001b[0m\n\u001b[1;32m    199\u001b[0m             \u001b[0;32mif\u001b[0m \u001b[0;32mnot\u001b[0m \u001b[0msuccess\u001b[0m\u001b[0;34m:\u001b[0m\u001b[0;34m\u001b[0m\u001b[0;34m\u001b[0m\u001b[0m\n",
            "\u001b[0;32m/usr/local/lib/python3.10/dist-packages/scipy/integrate/_ivp/lsoda.py\u001b[0m in \u001b[0;36m_step_impl\u001b[0;34m(self)\u001b[0m\n\u001b[1;32m    159\u001b[0m         \u001b[0mitask\u001b[0m \u001b[0;34m=\u001b[0m \u001b[0mintegrator\u001b[0m\u001b[0;34m.\u001b[0m\u001b[0mcall_args\u001b[0m\u001b[0;34m[\u001b[0m\u001b[0;36m2\u001b[0m\u001b[0;34m]\u001b[0m\u001b[0;34m\u001b[0m\u001b[0;34m\u001b[0m\u001b[0m\n\u001b[1;32m    160\u001b[0m         \u001b[0mintegrator\u001b[0m\u001b[0;34m.\u001b[0m\u001b[0mcall_args\u001b[0m\u001b[0;34m[\u001b[0m\u001b[0;36m2\u001b[0m\u001b[0;34m]\u001b[0m \u001b[0;34m=\u001b[0m \u001b[0;36m5\u001b[0m\u001b[0;34m\u001b[0m\u001b[0;34m\u001b[0m\u001b[0m\n\u001b[0;32m--> 161\u001b[0;31m         solver._y, solver.t = integrator.run(\n\u001b[0m\u001b[1;32m    162\u001b[0m             \u001b[0msolver\u001b[0m\u001b[0;34m.\u001b[0m\u001b[0mf\u001b[0m\u001b[0;34m,\u001b[0m \u001b[0msolver\u001b[0m\u001b[0;34m.\u001b[0m\u001b[0mjac\u001b[0m \u001b[0;32mor\u001b[0m \u001b[0;34m(\u001b[0m\u001b[0;32mlambda\u001b[0m\u001b[0;34m:\u001b[0m \u001b[0;32mNone\u001b[0m\u001b[0;34m)\u001b[0m\u001b[0;34m,\u001b[0m \u001b[0msolver\u001b[0m\u001b[0;34m.\u001b[0m\u001b[0m_y\u001b[0m\u001b[0;34m,\u001b[0m \u001b[0msolver\u001b[0m\u001b[0;34m.\u001b[0m\u001b[0mt\u001b[0m\u001b[0;34m,\u001b[0m\u001b[0;34m\u001b[0m\u001b[0;34m\u001b[0m\u001b[0m\n\u001b[1;32m    163\u001b[0m             self.t_bound, solver.f_params, solver.jac_params)\n",
            "\u001b[0;32m/usr/local/lib/python3.10/dist-packages/scipy/integrate/_ode.py\u001b[0m in \u001b[0;36mrun\u001b[0;34m(self, f, jac, y0, t0, t1, f_params, jac_params)\u001b[0m\n\u001b[1;32m   1342\u001b[0m         \u001b[0margs\u001b[0m \u001b[0;34m=\u001b[0m \u001b[0;34m[\u001b[0m\u001b[0mf\u001b[0m\u001b[0;34m,\u001b[0m \u001b[0my0\u001b[0m\u001b[0;34m,\u001b[0m \u001b[0mt0\u001b[0m\u001b[0;34m,\u001b[0m \u001b[0mt1\u001b[0m\u001b[0;34m]\u001b[0m \u001b[0;34m+\u001b[0m \u001b[0mself\u001b[0m\u001b[0;34m.\u001b[0m\u001b[0mcall_args\u001b[0m\u001b[0;34m[\u001b[0m\u001b[0;34m:\u001b[0m\u001b[0;34m-\u001b[0m\u001b[0;36m1\u001b[0m\u001b[0;34m]\u001b[0m \u001b[0;34m+\u001b[0m\u001b[0;31m \u001b[0m\u001b[0;31m\\\u001b[0m\u001b[0;34m\u001b[0m\u001b[0;34m\u001b[0m\u001b[0m\n\u001b[1;32m   1343\u001b[0m                \u001b[0;34m[\u001b[0m\u001b[0mjac\u001b[0m\u001b[0;34m,\u001b[0m \u001b[0mself\u001b[0m\u001b[0;34m.\u001b[0m\u001b[0mcall_args\u001b[0m\u001b[0;34m[\u001b[0m\u001b[0;34m-\u001b[0m\u001b[0;36m1\u001b[0m\u001b[0;34m]\u001b[0m\u001b[0;34m,\u001b[0m \u001b[0mf_params\u001b[0m\u001b[0;34m,\u001b[0m \u001b[0;36m0\u001b[0m\u001b[0;34m,\u001b[0m \u001b[0mjac_params\u001b[0m\u001b[0;34m]\u001b[0m\u001b[0;34m\u001b[0m\u001b[0;34m\u001b[0m\u001b[0m\n\u001b[0;32m-> 1344\u001b[0;31m         \u001b[0my1\u001b[0m\u001b[0;34m,\u001b[0m \u001b[0mt\u001b[0m\u001b[0;34m,\u001b[0m \u001b[0mistate\u001b[0m \u001b[0;34m=\u001b[0m \u001b[0mself\u001b[0m\u001b[0;34m.\u001b[0m\u001b[0mrunner\u001b[0m\u001b[0;34m(\u001b[0m\u001b[0;34m*\u001b[0m\u001b[0margs\u001b[0m\u001b[0;34m)\u001b[0m\u001b[0;34m\u001b[0m\u001b[0;34m\u001b[0m\u001b[0m\n\u001b[0m\u001b[1;32m   1345\u001b[0m         \u001b[0mself\u001b[0m\u001b[0;34m.\u001b[0m\u001b[0mistate\u001b[0m \u001b[0;34m=\u001b[0m \u001b[0mistate\u001b[0m\u001b[0;34m\u001b[0m\u001b[0;34m\u001b[0m\u001b[0m\n\u001b[1;32m   1346\u001b[0m         \u001b[0;32mif\u001b[0m \u001b[0mistate\u001b[0m \u001b[0;34m<\u001b[0m \u001b[0;36m0\u001b[0m\u001b[0;34m:\u001b[0m\u001b[0;34m\u001b[0m\u001b[0;34m\u001b[0m\u001b[0m\n",
            "\u001b[0;32m/usr/local/lib/python3.10/dist-packages/scipy/integrate/_ivp/base.py\u001b[0m in \u001b[0;36mfun\u001b[0;34m(t, y)\u001b[0m\n\u001b[1;32m    152\u001b[0m         \u001b[0;32mdef\u001b[0m \u001b[0mfun\u001b[0m\u001b[0;34m(\u001b[0m\u001b[0mt\u001b[0m\u001b[0;34m,\u001b[0m \u001b[0my\u001b[0m\u001b[0;34m)\u001b[0m\u001b[0;34m:\u001b[0m\u001b[0;34m\u001b[0m\u001b[0;34m\u001b[0m\u001b[0m\n\u001b[1;32m    153\u001b[0m             \u001b[0mself\u001b[0m\u001b[0;34m.\u001b[0m\u001b[0mnfev\u001b[0m \u001b[0;34m+=\u001b[0m \u001b[0;36m1\u001b[0m\u001b[0;34m\u001b[0m\u001b[0;34m\u001b[0m\u001b[0m\n\u001b[0;32m--> 154\u001b[0;31m             \u001b[0;32mreturn\u001b[0m \u001b[0mself\u001b[0m\u001b[0;34m.\u001b[0m\u001b[0mfun_single\u001b[0m\u001b[0;34m(\u001b[0m\u001b[0mt\u001b[0m\u001b[0;34m,\u001b[0m \u001b[0my\u001b[0m\u001b[0;34m)\u001b[0m\u001b[0;34m\u001b[0m\u001b[0;34m\u001b[0m\u001b[0m\n\u001b[0m\u001b[1;32m    155\u001b[0m \u001b[0;34m\u001b[0m\u001b[0m\n\u001b[1;32m    156\u001b[0m         \u001b[0mself\u001b[0m\u001b[0;34m.\u001b[0m\u001b[0mfun\u001b[0m \u001b[0;34m=\u001b[0m \u001b[0mfun\u001b[0m\u001b[0;34m\u001b[0m\u001b[0;34m\u001b[0m\u001b[0m\n",
            "\u001b[0;32m/usr/local/lib/python3.10/dist-packages/scipy/integrate/_ivp/base.py\u001b[0m in \u001b[0;36mfun_wrapped\u001b[0;34m(t, y)\u001b[0m\n\u001b[1;32m     21\u001b[0m \u001b[0;34m\u001b[0m\u001b[0m\n\u001b[1;32m     22\u001b[0m     \u001b[0;32mdef\u001b[0m \u001b[0mfun_wrapped\u001b[0m\u001b[0;34m(\u001b[0m\u001b[0mt\u001b[0m\u001b[0;34m,\u001b[0m \u001b[0my\u001b[0m\u001b[0;34m)\u001b[0m\u001b[0;34m:\u001b[0m\u001b[0;34m\u001b[0m\u001b[0;34m\u001b[0m\u001b[0m\n\u001b[0;32m---> 23\u001b[0;31m         \u001b[0;32mreturn\u001b[0m \u001b[0mnp\u001b[0m\u001b[0;34m.\u001b[0m\u001b[0masarray\u001b[0m\u001b[0;34m(\u001b[0m\u001b[0mfun\u001b[0m\u001b[0;34m(\u001b[0m\u001b[0mt\u001b[0m\u001b[0;34m,\u001b[0m \u001b[0my\u001b[0m\u001b[0;34m)\u001b[0m\u001b[0;34m,\u001b[0m \u001b[0mdtype\u001b[0m\u001b[0;34m=\u001b[0m\u001b[0mdtype\u001b[0m\u001b[0;34m)\u001b[0m\u001b[0;34m\u001b[0m\u001b[0;34m\u001b[0m\u001b[0m\n\u001b[0m\u001b[1;32m     24\u001b[0m \u001b[0;34m\u001b[0m\u001b[0m\n\u001b[1;32m     25\u001b[0m     \u001b[0;32mreturn\u001b[0m \u001b[0mfun_wrapped\u001b[0m\u001b[0;34m,\u001b[0m \u001b[0my0\u001b[0m\u001b[0;34m\u001b[0m\u001b[0;34m\u001b[0m\u001b[0m\n",
            "\u001b[0;32m/usr/local/lib/python3.10/dist-packages/rocketpy/simulation/flight.py\u001b[0m in \u001b[0;36mu_dot_generalized\u001b[0;34m(self, t, u, post_processing)\u001b[0m\n\u001b[1;32m   1646\u001b[0m         \u001b[0;31m## CM position vector and time derivatives relative to CDM in body frame\u001b[0m\u001b[0;34m\u001b[0m\u001b[0;34m\u001b[0m\u001b[0m\n\u001b[1;32m   1647\u001b[0m         r_CM_z = (\n\u001b[0;32m-> 1648\u001b[0;31m             \u001b[0;34m-\u001b[0m\u001b[0;36m1\u001b[0m\u001b[0;34m\u001b[0m\u001b[0;34m\u001b[0m\u001b[0m\n\u001b[0m\u001b[1;32m   1649\u001b[0m             * (\n\u001b[1;32m   1650\u001b[0m                 (\n",
            "\u001b[0;32m/usr/local/lib/python3.10/dist-packages/rocketpy/mathutils/function.py\u001b[0m in \u001b[0;36m__truediv__\u001b[0;34m(self, other)\u001b[0m\n\u001b[1;32m   2173\u001b[0m                     \u001b[0mextrapolation\u001b[0m \u001b[0;34m=\u001b[0m \u001b[0mself\u001b[0m\u001b[0;34m.\u001b[0m\u001b[0m__extrapolation__\u001b[0m\u001b[0;34m\u001b[0m\u001b[0;34m\u001b[0m\u001b[0m\n\u001b[1;32m   2174\u001b[0m                     \u001b[0;31m# Create new Function object\u001b[0m\u001b[0;34m\u001b[0m\u001b[0;34m\u001b[0m\u001b[0m\n\u001b[0;32m-> 2175\u001b[0;31m                     return Function(\n\u001b[0m\u001b[1;32m   2176\u001b[0m                         \u001b[0msource\u001b[0m\u001b[0;34m,\u001b[0m \u001b[0minputs\u001b[0m\u001b[0;34m,\u001b[0m \u001b[0moutputs\u001b[0m\u001b[0;34m,\u001b[0m \u001b[0minterpolation\u001b[0m\u001b[0;34m,\u001b[0m \u001b[0mextrapolation\u001b[0m\u001b[0;34m\u001b[0m\u001b[0;34m\u001b[0m\u001b[0m\n\u001b[1;32m   2177\u001b[0m                     )\n",
            "\u001b[0;32m/usr/local/lib/python3.10/dist-packages/rocketpy/mathutils/function.py\u001b[0m in \u001b[0;36m__init__\u001b[0;34m(self, source, inputs, outputs, interpolation, extrapolation, title)\u001b[0m\n\u001b[1;32m    131\u001b[0m         \u001b[0mself\u001b[0m\u001b[0;34m.\u001b[0m\u001b[0m__interpolation__\u001b[0m \u001b[0;34m=\u001b[0m \u001b[0minterpolation\u001b[0m\u001b[0;34m\u001b[0m\u001b[0;34m\u001b[0m\u001b[0m\n\u001b[1;32m    132\u001b[0m         \u001b[0mself\u001b[0m\u001b[0;34m.\u001b[0m\u001b[0m__extrapolation__\u001b[0m \u001b[0;34m=\u001b[0m \u001b[0mextrapolation\u001b[0m\u001b[0;34m\u001b[0m\u001b[0;34m\u001b[0m\u001b[0m\n\u001b[0;32m--> 133\u001b[0;31m         \u001b[0mself\u001b[0m\u001b[0;34m.\u001b[0m\u001b[0mset_source\u001b[0m\u001b[0;34m(\u001b[0m\u001b[0msource\u001b[0m\u001b[0;34m)\u001b[0m\u001b[0;34m\u001b[0m\u001b[0;34m\u001b[0m\u001b[0m\n\u001b[0m\u001b[1;32m    134\u001b[0m         \u001b[0mself\u001b[0m\u001b[0;34m.\u001b[0m\u001b[0mset_title\u001b[0m\u001b[0;34m(\u001b[0m\u001b[0mtitle\u001b[0m\u001b[0;34m)\u001b[0m\u001b[0;34m\u001b[0m\u001b[0;34m\u001b[0m\u001b[0m\n\u001b[1;32m    135\u001b[0m \u001b[0;34m\u001b[0m\u001b[0m\n",
            "\u001b[0;32m/usr/local/lib/python3.10/dist-packages/rocketpy/mathutils/function.py\u001b[0m in \u001b[0;36mset_source\u001b[0;34m(self, source)\u001b[0m\n\u001b[1;32m    300\u001b[0m                 \u001b[0mself\u001b[0m\u001b[0;34m.\u001b[0m\u001b[0msource\u001b[0m \u001b[0;34m=\u001b[0m \u001b[0msource\u001b[0m\u001b[0;34m\u001b[0m\u001b[0;34m\u001b[0m\u001b[0m\n\u001b[1;32m    301\u001b[0m             \u001b[0;31m# Update extrapolation method\u001b[0m\u001b[0;34m\u001b[0m\u001b[0;34m\u001b[0m\u001b[0m\n\u001b[0;32m--> 302\u001b[0;31m             \u001b[0;32mif\u001b[0m \u001b[0mself\u001b[0m\u001b[0;34m.\u001b[0m\u001b[0m__extrapolation__\u001b[0m \u001b[0;32mis\u001b[0m \u001b[0;32mNone\u001b[0m\u001b[0;34m:\u001b[0m\u001b[0;34m\u001b[0m\u001b[0;34m\u001b[0m\u001b[0m\n\u001b[0m\u001b[1;32m    303\u001b[0m                 \u001b[0mself\u001b[0m\u001b[0;34m.\u001b[0m\u001b[0mset_extrapolation\u001b[0m\u001b[0;34m(\u001b[0m\u001b[0mextrapolation\u001b[0m\u001b[0;34m)\u001b[0m\u001b[0;34m\u001b[0m\u001b[0;34m\u001b[0m\u001b[0m\n\u001b[1;32m    304\u001b[0m             \u001b[0;31m# Set default interpolation for point source if it hasn't\u001b[0m\u001b[0;34m\u001b[0m\u001b[0;34m\u001b[0m\u001b[0m\n",
            "\u001b[0;31mKeyboardInterrupt\u001b[0m: "
          ]
        }
      ]
    },
    {
      "cell_type": "code",
      "source": [
        "filename = \"dispersion_analysis_outputs/valetudo_rocket_v0\"\n",
        "\n",
        "# Initialize variable to store all results\n",
        "dispersion_general_results = []\n",
        "\n",
        "dispersion_results = {\n",
        "    \"out_of_rail_time\": [],\n",
        "    \"out_of_rail_velocity\": [],\n",
        "    \"apogee_time\": [],\n",
        "    \"apogee_altitude\": [],\n",
        "    \"apogee_x\": [],\n",
        "    \"apogee_y\": [],\n",
        "    \"impact_time\": [],\n",
        "    \"impact_x\": [],\n",
        "    \"impact_y\": [],\n",
        "    \"impact_velocity\": [],\n",
        "    \"initial_static_margin\": [],\n",
        "    \"out_of_rail_static_margin\": [],\n",
        "    \"final_static_margin\": [],\n",
        "    \"number_of_events\": [],\n",
        "    \"max_velocity\": [],\n",
        "    \"drogue_triggerTime\": [],\n",
        "    \"drogue_inflated_time\": [],\n",
        "    \"drogue_inflated_velocity\": [],\n",
        "    \"execution_time\": [],\n",
        "}\n",
        "\n",
        "# Get all dispersion results\n",
        "# Get file\n",
        "dispersion_output_file = open(str(filename) + \".disp_outputs.txt\", \"r+\")\n",
        "\n",
        "# Read each line of the file and convert to dict\n",
        "for line in dispersion_output_file:\n",
        "    # Skip comments lines\n",
        "    if line[0] != \"{\":\n",
        "        continue\n",
        "    # Eval results and store them\n",
        "    flight_result = eval(line)\n",
        "    dispersion_general_results.append(flight_result)\n",
        "    for parameter_key, parameter_value in flight_result.items():\n",
        "        dispersion_results[parameter_key].append(parameter_value)\n",
        "\n",
        "# Close data file\n",
        "dispersion_output_file.close()\n",
        "\n",
        "# Print number of flights simulated\n",
        "N = len(dispersion_general_results)\n",
        "print(\"Number of simulations: \", N)"
      ],
      "metadata": {
        "id": "VR8kh7pX0NV3"
      },
      "execution_count": null,
      "outputs": []
    },
    {
      "cell_type": "code",
      "source": [
        "print(\n",
        "    f'Out of Rail Time -         Mean Value: {np.mean(dispersion_results[\"out_of_rail_time\"]):0.3f} s'\n",
        ")\n",
        "print(\n",
        "    f'Out of Rail Time - Standard Deviation: {np.std(dispersion_results[\"out_of_rail_time\"]):0.3f} s'\n",
        ")\n",
        "\n",
        "plt.figure()\n",
        "plt.hist(dispersion_results[\"out_of_rail_time\"], bins=int(N**0.5))\n",
        "plt.title(\"Out of Rail Time\")\n",
        "plt.xlabel(\"Time (s)\")\n",
        "plt.ylabel(\"Number of Occurences\")\n",
        "plt.show()"
      ],
      "metadata": {
        "id": "kNXcwmI50RLL"
      },
      "execution_count": null,
      "outputs": []
    },
    {
      "cell_type": "code",
      "source": [
        "print(\n",
        "    f'Out of Rail Velocity -         Mean Value: {np.mean(dispersion_results[\"out_of_rail_velocity\"]):0.3f} m/s'\n",
        ")\n",
        "print(\n",
        "    f'Out of Rail Velocity - Standard Deviation: {np.std(dispersion_results[\"out_of_rail_velocity\"]):0.3f} m/s'\n",
        ")\n",
        "\n",
        "plt.figure()\n",
        "plt.hist(dispersion_results[\"out_of_rail_velocity\"], bins=int(N**0.5))\n",
        "plt.title(\"Out of Rail Velocity\")\n",
        "plt.xlabel(\"Velocity (m/s)\")\n",
        "plt.ylabel(\"Number of Occurences\")\n",
        "plt.show()"
      ],
      "metadata": {
        "id": "mdsZd6zq0Tud"
      },
      "execution_count": null,
      "outputs": []
    },
    {
      "cell_type": "code",
      "source": [
        "print(\n",
        "    f'Apogee Time -         Mean Value: {np.mean(dispersion_results[\"apogee_time\"]):0.3f} s'\n",
        ")\n",
        "print(\n",
        "    f'Apogee Time - Standard Deviation: {np.std(dispersion_results[\"apogee_time\"]):0.3f} s'\n",
        ")\n",
        "\n",
        "plt.figure()\n",
        "plt.hist(dispersion_results[\"apogee_time\"], bins=int(N**0.5))\n",
        "plt.title(\"Apogee Time\")\n",
        "plt.xlabel(\"Time (s)\")\n",
        "plt.ylabel(\"Number of Occurences\")\n",
        "plt.show()"
      ],
      "metadata": {
        "id": "WXD6l08x0Wc7"
      },
      "execution_count": null,
      "outputs": []
    },
    {
      "cell_type": "code",
      "source": [
        "# more things to graph later from the website."
      ],
      "metadata": {
        "id": "QHYOa769znhA"
      },
      "execution_count": null,
      "outputs": []
    }
  ]
}